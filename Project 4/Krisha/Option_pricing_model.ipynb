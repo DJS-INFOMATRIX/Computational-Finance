{
  "cells": [
    {
      "cell_type": "code",
      "execution_count": 1,
      "metadata": {
        "id": "1g8F_mFqrKGc"
      },
      "outputs": [],
      "source": [
        "import numpy as np\n",
        "import pandas as pd\n",
        "import scipy.stats as si\n",
        "from scipy.stats import norm\n",
        "from math import log, sqrt, exp\n",
        "import yfinance as yf\n",
        "from datetime import datetime\n",
        "import datetime as dt"
      ]
    },
    {
      "cell_type": "code",
      "execution_count": 2,
      "metadata": {
        "id": "_RuJ8dzLrP9L"
      },
      "outputs": [],
      "source": [
        "#function to calculate d1\n",
        "def d1(S, K, T, r, sigma):\n",
        "    D1 = (np.log(S / K) + (r + 0.5 * sigma ** 2) * T) / (sigma * np.sqrt(T))\n",
        "    return D1"
      ]
    },
    {
      "cell_type": "code",
      "execution_count": 3,
      "metadata": {
        "id": "eXP1gbrWrTOW"
      },
      "outputs": [],
      "source": [
        "#function to calculate d2\n",
        "def d2(S, K, T, r, sigma):\n",
        "    dd1 = d1(S, K, T, r, sigma)\n",
        "    D2 = dd1 - sigma * np.sqrt(T)\n",
        "    return D2"
      ]
    },
    {
      "cell_type": "code",
      "execution_count": 4,
      "metadata": {
        "id": "E-A2UF68rYV2"
      },
      "outputs": [],
      "source": [
        "def black_scholes(S, K, T, r, option_type):\n",
        "    if option_type == \"call\":\n",
        "        # Calculate call option price\n",
        "        call_price = S * norm.cdf(d1) - K * np.exp(-r * T) * norm.cdf(d2)\n",
        "        return call_price\n",
        "    elif option_type == \"put\":\n",
        "        # Calculate put option price\n",
        "        put_price = K * np.exp(-r * T) * norm.cdf(-d2) - S * norm.cdf(-d1)\n",
        "        return put_price\n",
        "    else:\n",
        "        raise ValueError(\"Invalid option type. Use 'call' or 'put'.\")"
      ]
    },
    {
      "cell_type": "code",
      "execution_count": 5,
      "metadata": {
        "id": "TQkZYTk_rda4"
      },
      "outputs": [],
      "source": [
        "#function to calculate delta\n",
        "def calc_delta(S, K, T, r, sigma, option_type):\n",
        "    D1 = d1(S, K, T, r, sigma)\n",
        "    if option_type == 'call':\n",
        "        return si.norm.cdf(D1)\n",
        "    elif option_type == 'put':\n",
        "        return si.norm.cdf(D1) - 1"
      ]
    },
    {
      "cell_type": "code",
      "execution_count": 6,
      "metadata": {
        "id": "BbgNfGtXrg0T"
      },
      "outputs": [],
      "source": [
        "#function to calculate gamma\n",
        "def calc_gamma(S, K, T, r, sigma):\n",
        "    D1 = d1(S, K, T, r, sigma)\n",
        "    return si.norm.pdf(D1) / (S * sigma * np.sqrt(T))"
      ]
    },
    {
      "cell_type": "code",
      "execution_count": 7,
      "metadata": {
        "id": "F4_XTYxPrjqV"
      },
      "outputs": [],
      "source": [
        "#function to calculate theta\n",
        "def calc_theta(S, K, T, r, sigma, option_type='call'):\n",
        "    D1 = d1(S, K, T, r, sigma)\n",
        "    D2 = d2(S, K, T, r, sigma)\n",
        "    term1 = -(S * si.norm.pdf(D1) * sigma) / (2 * np.sqrt(T))\n",
        "\n",
        "    if option_type == 'call':\n",
        "        term2 = r * K * np.exp(-r * T) * si.norm.cdf(D2)\n",
        "        return term1 - term2\n",
        "    elif option_type == 'put':\n",
        "        term2 = r * K * np.exp(-r * T) * si.norm.cdf(-D2)\n",
        "        return term1 + term2"
      ]
    },
    {
      "cell_type": "code",
      "execution_count": 8,
      "metadata": {
        "id": "y5UA5jgJrl-p"
      },
      "outputs": [],
      "source": [
        "#function to calculate vega\n",
        "def calc_vega(S, K, T, r, sigma):\n",
        "    D1 = d1(S, K, T, r, sigma)\n",
        "    return S * si.norm.pdf(D1) * np.sqrt(T)"
      ]
    },
    {
      "cell_type": "code",
      "execution_count": 9,
      "metadata": {
        "id": "hR4ANu2usRMl"
      },
      "outputs": [],
      "source": [
        "def get_stock_data(ticker):\n",
        "    try:\n",
        "        # Get stock data\n",
        "        stock = yf.Ticker(ticker)\n",
        "        hist = stock.history(period=\"1y\")\n",
        "\n",
        "        if hist.empty:\n",
        "            raise ValueError(f\"No data found for ticker {ticker}\")\n",
        "\n",
        "        # Calculating daily returns and volatility\n",
        "        daily_returns = hist['Close'].pct_change()\n",
        "        annual_volatility = daily_returns.std() * np.sqrt(252)\n",
        "\n",
        "        current_price = hist['Close'].iloc[-1]\n",
        "        risk_free_rate = get_risk_free_rate()\n",
        "\n",
        "        return {\n",
        "            'price': current_price,\n",
        "            'volatility': annual_volatility,\n",
        "            'risk_free_rate': risk_free_rate\n",
        "        }\n",
        "    except Exception as e:\n",
        "        raise ValueError(f\"Error fetching data for {ticker}: {str(e)}\")"
      ]
    },
    {
      "cell_type": "code",
      "execution_count": 10,
      "metadata": {
        "id": "SPT43CgtsXP6"
      },
      "outputs": [],
      "source": [
        "def get_risk_free_rate():\n",
        "    try:\n",
        "        treasury = yf.Ticker(\"^TNX\")\n",
        "        current_yield = treasury.history(period=\"1d\")['Close'].iloc[-1] / 100\n",
        "        return current_yield\n",
        "    except:\n",
        "        print(\"Could not fetch risk-free rate. Using default value of 0.03 (3%)\")\n",
        "        return 0.03"
      ]
    },
    {
      "cell_type": "code",
      "execution_count": 11,
      "metadata": {
        "id": "MYBqqlFTshBD"
      },
      "outputs": [],
      "source": [
        "def calculate_time_to_expiry(expiry_date):\n",
        "    try:\n",
        "        if isinstance(expiry_date, str):\n",
        "            expiry = datetime.strptime(expiry_date, '%Y-%m-%d')\n",
        "        else:\n",
        "            expiry = expiry_date\n",
        "\n",
        "        today = datetime.now()\n",
        "        days_to_expiry = (expiry - today).days\n",
        "\n",
        "        if days_to_expiry < 0:\n",
        "            raise ValueError(\"Expiration date must be in the future\")\n",
        "\n",
        "        return days_to_expiry / 365\n",
        "    except ValueError as e:\n",
        "        raise ValueError(f\"Invalid date format. Please use YYYY-MM-DD format. Error: {str(e)}\")"
      ]
    },
    {
      "cell_type": "code",
      "execution_count": null,
      "metadata": {
        "colab": {
          "base_uri": "https://localhost:8080/"
        },
        "id": "MpuY7wBusvEB",
        "outputId": "0929aa20-b6e3-4b39-9637-3d5a045bb5e7"
      },
      "outputs": [
        {
          "output_type": "stream",
          "name": "stdout",
          "text": [
            "This is a Black-Scholes Option Pricing Model\n",
            "\n",
            "Enter stock ticker symbol (e.g., AAPL): AAPL\n",
            "\n",
            "Fetching data for AAPL...\n",
            "\n",
            "Current stock price: $226.80\n",
            "Historical volatility: 22.45%\n",
            "Risk-free rate: 3.98%\n",
            "\n",
            "Enter strike price: 230\n",
            "Enter expiration date (YYYY-MM-DD): 2024-11-15\n",
            "Time to expiry: 0.104 years\n",
            "Enter option type (call/put): call\n",
            "An unexpected error occurred: black_scholes() takes 5 positional arguments but 6 were given\n"
          ]
        }
      ],
      "source": [
        "def main():\n",
        "    print(\"This is a Black-Scholes Option Pricing Model\")\n",
        "\n",
        "    while True:\n",
        "        try:\n",
        "            # Get stock ticker and fetch data\n",
        "            ticker = input(\"\\nEnter stock ticker symbol (e.g., AAPL): \").upper()\n",
        "            print(f\"\\nFetching data for {ticker}...\")\n",
        "\n",
        "            stock_data = get_stock_data(ticker)\n",
        "            S = stock_data['price']\n",
        "            sigma = stock_data['volatility']\n",
        "            r = stock_data['risk_free_rate']\n",
        "\n",
        "            print(f\"\\nCurrent stock price: ${S:.2f}\")\n",
        "            print(f\"Historical volatility: {sigma:.2%}\")\n",
        "            print(f\"Risk-free rate: {r:.2%}\")\n",
        "\n",
        "            # Get other parameters\n",
        "            K = float(input(\"\\nEnter strike price: \"))\n",
        "            expiry_date = input(\"Enter expiration date (YYYY-MM-DD): \")\n",
        "            T = calculate_time_to_expiry(expiry_date)\n",
        "            print(f\"Time to expiry: {T:.3f} years\")\n",
        "\n",
        "            option_type = input(\"Enter option type (call/put): \").lower()\n",
        "\n",
        "            if option_type not in ['call', 'put']:\n",
        "                print(\"Invalid option type. Please enter 'call' or 'put'.\")\n",
        "                continue\n",
        "\n",
        "            # Calculate results for both call and put\n",
        "            results = {\n",
        "                'call': black_scholes(S, K, T, r, sigma, 'call'),\n",
        "                'put': black_scholes(S, K, T, r, sigma, 'put')\n",
        "            }\n",
        "\n",
        "            # Display results in a table\n",
        "            headers = ['Metric', 'Call Option', 'Put Option']\n",
        "            table_data = []\n",
        "            for metric in ['price', 'delta', 'gamma', 'vega', 'theta']:\n",
        "                row = [\n",
        "                    metric.capitalize(),\n",
        "                    f\"{results['call'][metric]:.4f}\",\n",
        "                    f\"{results['put'][metric]:.4f}\"\n",
        "                ]\n",
        "                table_data.append(row)\n",
        "\n",
        "            print(\"\\nResults:\")\n",
        "\n",
        "            # Ask if user wants to continue\n",
        "            if input(\"\\nCalculate another option? (y/n): \").lower() != 'y':\n",
        "                break\n",
        "\n",
        "        except ValueError as e:\n",
        "            print(f\"Error: {str(e)}\")\n",
        "            continue\n",
        "        except Exception as e:\n",
        "            print(f\"An unexpected error occurred: {str(e)}\")\n",
        "            continue\n",
        "\n",
        "if __name__ == \"__main__\":\n",
        "    main()"
      ]
    }
  ],
  "metadata": {
    "colab": {
      "provenance": []
    },
    "kernelspec": {
      "display_name": "Python 3",
      "name": "python3"
    },
    "language_info": {
      "name": "python"
    }
  },
  "nbformat": 4,
  "nbformat_minor": 0
}