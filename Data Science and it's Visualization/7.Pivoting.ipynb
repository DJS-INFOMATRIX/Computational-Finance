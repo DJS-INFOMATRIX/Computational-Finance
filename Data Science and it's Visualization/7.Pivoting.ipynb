{
 "cells": [
  {
   "cell_type": "markdown",
   "metadata": {},
   "source": [
    "Pivoting Process"
   ]
  },
  {
   "cell_type": "markdown",
   "metadata": {},
   "source": [
    "Pivoting: Restructuring data from a long format to a wide format, typically by specifying one column as the index, another as the columns, and another as the values.\n",
    "\n",
    "Application : Useful for summarizing data and creating informative visualizations, such as pivot tables and heatmaps.\n",
    "\n",
    "Unpivoting: Transforming data from a wide format to a long format, usually by converting multiple columns into rows, often representing observations.\n",
    "\n",
    "Application :  Helpful for preparing data for analysis, facilitating easier plotting of multiple variables, and enhancing compatibility with certain statistical functions"
   ]
  },
  {
   "cell_type": "markdown",
   "metadata": {},
   "source": [
    "Wide format is structured with each variable as a separate column, while long format is structured with each variable-value pair in a single row, allowing for easier manipulation and analysis of data, especially in statistical modeling and visualization tasks"
   ]
  },
  {
   "cell_type": "markdown",
   "metadata": {},
   "source": [
    "ID\tVariable_1\tVariable_2\tVariable_3\n",
    "1\tValue_11\tValue_12\tValue_13\n",
    "2\tValue_21\tValue_22\tValue_23\n",
    "3\tValue_31\tValue_32\tValue_33\n",
    "\n",
    "Example of wide format"
   ]
  },
  {
   "cell_type": "markdown",
   "metadata": {},
   "source": [
    "ID\tVariable\tValue\n",
    "1\tVariable_1\tValue_11\n",
    "1\tVariable_2\tValue_12\n",
    "1\tVariable_3\tValue_13\n",
    "2\tVariable_1\tValue_21\n",
    "2\tVariable_2\tValue_22\n",
    "2\tVariable_3\tValue_23\n",
    "\n",
    "Example of wide format"
   ]
  },
  {
   "cell_type": "code",
   "execution_count": 1,
   "metadata": {
    "collapsed": true
   },
   "outputs": [],
   "source": [
    "import pandas as pd\n",
    "import numpy as np\n",
    "from pandas import Series, DataFrame"
   ]
  },
  {
   "cell_type": "code",
   "execution_count": 5,
   "metadata": {
    "collapsed": true
   },
   "outputs": [
    {
     "name": "stdout",
     "output_type": "stream",
     "text": [
      "         date variable     value\n",
      "0  2023-01-01        A  2.839169\n",
      "1  2023-01-02        A  1.068365\n",
      "2  2023-01-03        A -0.120185\n",
      "3  2023-01-01        B  0.330703\n",
      "4  2023-01-02        B -1.219506\n",
      "5  2023-01-03        B  0.356066\n",
      "6  2023-01-01        C -0.888135\n",
      "7  2023-01-02        C  0.888810\n",
      "8  2023-01-03        C -2.648032\n",
      "9  2023-01-01        D  1.179648\n",
      "10 2023-01-02        D -1.330136\n",
      "11 2023-01-03        D  0.393257\n"
     ]
    }
   ],
   "source": [
    "import numpy as np\n",
    "import pandas as pd\n",
    "\n",
    "# Create an unpivoted function\n",
    "def unpivot(frame):\n",
    "    N, K = frame.shape\n",
    "    \n",
    "    data = {'value' : frame.values.ravel('F'),\n",
    "            'variable' : np.asarray(frame.columns).repeat(N),\n",
    "            'date' : np.tile(np.asarray(frame.index), K)}\n",
    "    \n",
    "    # Return the DataFrame\n",
    "    return pd.DataFrame(data, columns=['date', 'variable', 'value'])\n",
    "\n",
    "# Create a sample DataFrame manually\n",
    "dates = pd.date_range('2023-01-01', periods=3)\n",
    "data = np.random.randn(3, 4)\n",
    "columns = ['A', 'B', 'C', 'D']\n",
    "sample_df = pd.DataFrame(data, index=dates, columns=columns)\n",
    "\n",
    "# Apply the unpivot function\n",
    "dframe = unpivot(sample_df)\n",
    "print(dframe)\n"
   ]
  },
  {
   "cell_type": "code",
   "execution_count": 6,
   "metadata": {
    "collapsed": false
   },
   "outputs": [
    {
     "data": {
      "text/html": [
       "<div>\n",
       "<style scoped>\n",
       "    .dataframe tbody tr th:only-of-type {\n",
       "        vertical-align: middle;\n",
       "    }\n",
       "\n",
       "    .dataframe tbody tr th {\n",
       "        vertical-align: top;\n",
       "    }\n",
       "\n",
       "    .dataframe thead th {\n",
       "        text-align: right;\n",
       "    }\n",
       "</style>\n",
       "<table border=\"1\" class=\"dataframe\">\n",
       "  <thead>\n",
       "    <tr style=\"text-align: right;\">\n",
       "      <th></th>\n",
       "      <th>date</th>\n",
       "      <th>variable</th>\n",
       "      <th>value</th>\n",
       "    </tr>\n",
       "  </thead>\n",
       "  <tbody>\n",
       "    <tr>\n",
       "      <th>0</th>\n",
       "      <td>2023-01-01</td>\n",
       "      <td>A</td>\n",
       "      <td>2.839169</td>\n",
       "    </tr>\n",
       "    <tr>\n",
       "      <th>1</th>\n",
       "      <td>2023-01-02</td>\n",
       "      <td>A</td>\n",
       "      <td>1.068365</td>\n",
       "    </tr>\n",
       "    <tr>\n",
       "      <th>2</th>\n",
       "      <td>2023-01-03</td>\n",
       "      <td>A</td>\n",
       "      <td>-0.120185</td>\n",
       "    </tr>\n",
       "    <tr>\n",
       "      <th>3</th>\n",
       "      <td>2023-01-01</td>\n",
       "      <td>B</td>\n",
       "      <td>0.330703</td>\n",
       "    </tr>\n",
       "    <tr>\n",
       "      <th>4</th>\n",
       "      <td>2023-01-02</td>\n",
       "      <td>B</td>\n",
       "      <td>-1.219506</td>\n",
       "    </tr>\n",
       "    <tr>\n",
       "      <th>5</th>\n",
       "      <td>2023-01-03</td>\n",
       "      <td>B</td>\n",
       "      <td>0.356066</td>\n",
       "    </tr>\n",
       "    <tr>\n",
       "      <th>6</th>\n",
       "      <td>2023-01-01</td>\n",
       "      <td>C</td>\n",
       "      <td>-0.888135</td>\n",
       "    </tr>\n",
       "    <tr>\n",
       "      <th>7</th>\n",
       "      <td>2023-01-02</td>\n",
       "      <td>C</td>\n",
       "      <td>0.888810</td>\n",
       "    </tr>\n",
       "    <tr>\n",
       "      <th>8</th>\n",
       "      <td>2023-01-03</td>\n",
       "      <td>C</td>\n",
       "      <td>-2.648032</td>\n",
       "    </tr>\n",
       "    <tr>\n",
       "      <th>9</th>\n",
       "      <td>2023-01-01</td>\n",
       "      <td>D</td>\n",
       "      <td>1.179648</td>\n",
       "    </tr>\n",
       "    <tr>\n",
       "      <th>10</th>\n",
       "      <td>2023-01-02</td>\n",
       "      <td>D</td>\n",
       "      <td>-1.330136</td>\n",
       "    </tr>\n",
       "    <tr>\n",
       "      <th>11</th>\n",
       "      <td>2023-01-03</td>\n",
       "      <td>D</td>\n",
       "      <td>0.393257</td>\n",
       "    </tr>\n",
       "  </tbody>\n",
       "</table>\n",
       "</div>"
      ],
      "text/plain": [
       "         date variable     value\n",
       "0  2023-01-01        A  2.839169\n",
       "1  2023-01-02        A  1.068365\n",
       "2  2023-01-03        A -0.120185\n",
       "3  2023-01-01        B  0.330703\n",
       "4  2023-01-02        B -1.219506\n",
       "5  2023-01-03        B  0.356066\n",
       "6  2023-01-01        C -0.888135\n",
       "7  2023-01-02        C  0.888810\n",
       "8  2023-01-03        C -2.648032\n",
       "9  2023-01-01        D  1.179648\n",
       "10 2023-01-02        D -1.330136\n",
       "11 2023-01-03        D  0.393257"
      ]
     },
     "execution_count": 6,
     "metadata": {},
     "output_type": "execute_result"
    }
   ],
   "source": [
    "dframe"
   ]
  },
  {
   "cell_type": "code",
   "execution_count": 8,
   "metadata": {
    "collapsed": true
   },
   "outputs": [
    {
     "name": "stdout",
     "output_type": "stream",
     "text": [
      "\n",
      "Pivoted DataFrame:\n",
      " variable           A         B         C         D\n",
      "date                                              \n",
      "2023-01-01  2.839169  0.330703 -0.888135  1.179648\n",
      "2023-01-02  1.068365 -1.219506  0.888810 -1.330136\n",
      "2023-01-03 -0.120185  0.356066 -2.648032  0.393257\n"
     ]
    }
   ],
   "source": [
    "# Pivot the DataFrame back to its original shape\n",
    "dframe_piv = dframe.pivot(index='date', columns='variable', values='value')\n",
    "print(\"\\nPivoted DataFrame:\\n\", dframe_piv)"
   ]
  },
  {
   "cell_type": "code",
   "execution_count": 9,
   "metadata": {
    "collapsed": false
   },
   "outputs": [
    {
     "data": {
      "text/html": [
       "<div>\n",
       "<style scoped>\n",
       "    .dataframe tbody tr th:only-of-type {\n",
       "        vertical-align: middle;\n",
       "    }\n",
       "\n",
       "    .dataframe tbody tr th {\n",
       "        vertical-align: top;\n",
       "    }\n",
       "\n",
       "    .dataframe thead th {\n",
       "        text-align: right;\n",
       "    }\n",
       "</style>\n",
       "<table border=\"1\" class=\"dataframe\">\n",
       "  <thead>\n",
       "    <tr style=\"text-align: right;\">\n",
       "      <th>variable</th>\n",
       "      <th>A</th>\n",
       "      <th>B</th>\n",
       "      <th>C</th>\n",
       "      <th>D</th>\n",
       "    </tr>\n",
       "    <tr>\n",
       "      <th>date</th>\n",
       "      <th></th>\n",
       "      <th></th>\n",
       "      <th></th>\n",
       "      <th></th>\n",
       "    </tr>\n",
       "  </thead>\n",
       "  <tbody>\n",
       "    <tr>\n",
       "      <th>2023-01-01</th>\n",
       "      <td>2.839169</td>\n",
       "      <td>0.330703</td>\n",
       "      <td>-0.888135</td>\n",
       "      <td>1.179648</td>\n",
       "    </tr>\n",
       "    <tr>\n",
       "      <th>2023-01-02</th>\n",
       "      <td>1.068365</td>\n",
       "      <td>-1.219506</td>\n",
       "      <td>0.888810</td>\n",
       "      <td>-1.330136</td>\n",
       "    </tr>\n",
       "    <tr>\n",
       "      <th>2023-01-03</th>\n",
       "      <td>-0.120185</td>\n",
       "      <td>0.356066</td>\n",
       "      <td>-2.648032</td>\n",
       "      <td>0.393257</td>\n",
       "    </tr>\n",
       "  </tbody>\n",
       "</table>\n",
       "</div>"
      ],
      "text/plain": [
       "variable           A         B         C         D\n",
       "date                                              \n",
       "2023-01-01  2.839169  0.330703 -0.888135  1.179648\n",
       "2023-01-02  1.068365 -1.219506  0.888810 -1.330136\n",
       "2023-01-03 -0.120185  0.356066 -2.648032  0.393257"
      ]
     },
     "execution_count": 9,
     "metadata": {},
     "output_type": "execute_result"
    }
   ],
   "source": [
    "dframe_piv"
   ]
  },
  {
   "cell_type": "code",
   "execution_count": null,
   "metadata": {
    "collapsed": true
   },
   "outputs": [],
   "source": []
  }
 ],
 "metadata": {
  "kernelspec": {
   "display_name": "Python 3",
   "language": "python",
   "name": "python3"
  },
  "language_info": {
   "codemirror_mode": {
    "name": "ipython",
    "version": 3
   },
   "file_extension": ".py",
   "mimetype": "text/x-python",
   "name": "python",
   "nbconvert_exporter": "python",
   "pygments_lexer": "ipython3",
   "version": "3.12.0"
  }
 },
 "nbformat": 4,
 "nbformat_minor": 0
}
