{
  "nbformat": 4,
  "nbformat_minor": 0,
  "metadata": {
    "colab": {
      "provenance": [],
      "include_colab_link": true
    },
    "kernelspec": {
      "name": "python3",
      "display_name": "Python 3"
    },
    "language_info": {
      "name": "python"
    }
  },
  "cells": [
    {
      "cell_type": "markdown",
      "metadata": {
        "id": "view-in-github",
        "colab_type": "text"
      },
      "source": [
        "<a href=\"https://colab.research.google.com/github/DJS-INFOMATRIX/Computational-Finance/blob/main/CFPYBASICS.ipynb\" target=\"_parent\"><img src=\"https://colab.research.google.com/assets/colab-badge.svg\" alt=\"Open In Colab\"/></a>"
      ]
    },
    {
      "cell_type": "markdown",
      "source": [
        "#Introduction"
      ],
      "metadata": {
        "id": "k8_mAQstSxj7"
      }
    },
    {
      "cell_type": "markdown",
      "source": [
        "***What is Python?*** <br> <br>\n",
        "Python is a powerful yet accessible language that can open up a world of possibilities for anyone interested in programming. Whether you're building a website, analyzing data, or creating a game, Python has the tools to help you get started quickly and effectively."
      ],
      "metadata": {
        "id": "RdzGf1ID-J6X"
      }
    },
    {
      "cell_type": "markdown",
      "source": [
        "***Why Python?*** <br> <br>\n",
        "**Simple and Readable:** Python's syntax (the way it is written) is straightforward and similar to plain English. This makes it easy to read and write code.\n",
        "\n",
        "**Versatile:** Python can be used for a wide range of applications, including web development, data analysis, machine learning, artificial intelligence, automation, and more.\n",
        "\n",
        "**Large Community:** Python has a huge community of developers. This means there are plenty of resources, tutorials, and libraries (pre-written code that you can use) available to help you learn and solve problems.\n",
        "\n",
        "**Cross-Platform:** Python works on many different types of computers and operating systems, such as Windows, macOS, and Linux."
      ],
      "metadata": {
        "id": "Uf7kS9uN-S3D"
      }
    },
    {
      "cell_type": "markdown",
      "source": [
        "***How is it different?*** <br> <br>\n",
        "**Indentation:** Unlike many other programming languages, Python uses indentation (spaces or tabs) to define blocks of code. This makes the code cleaner and easier to read.\n",
        "\n",
        "**Dynamic Typing:** You don't need to specify the type of a variable (like integer, string, etc.) when you create it. Python figures it out for you.\n",
        "\n",
        "**Extensive Libraries**: Python has a vast standard library and many third-party libraries, which can save you a lot of time. For example, libraries like NumPy and pandas are great for data analysis, while Flask and Django are popular for web development."
      ],
      "metadata": {
        "id": "J3Mz3fTs_LEM"
      }
    },
    {
      "cell_type": "markdown",
      "source": [
        "***Building-blocks for handling data in Python.***<br> <br>**int:** Whole numbers (42)<br>\n",
        "**float:** Decimal numbers (3.14)<br>\n",
        "**str:** Text (\"hello\")<br>\n",
        "**bool:** True/False values (True)<br>\n",
        "**list:** Ordered, changeable collection ([1, 2, 3])<br>\n",
        "**tuple:** Ordered, unchangeable collection ((1, 2, 3))<br>\n",
        "**dict:** Key-value pairs ({\"key\": \"value\"})<br>\n",
        "**set:** Unordered collection of unique items ({1, 2, 3})"
      ],
      "metadata": {
        "id": "j4Fpz6TmABx3"
      }
    },
    {
      "cell_type": "code",
      "source": [
        "#This is a single line comment."
      ],
      "metadata": {
        "id": "TtnUrh3VAH4H"
      },
      "execution_count": null,
      "outputs": []
    },
    {
      "cell_type": "code",
      "source": [
        "\"\"\"\n",
        "This is a multi-line comment.\n",
        "It can span multiple lines.\n",
        "\"\"\""
      ],
      "metadata": {
        "id": "tDQBD0iYA2pL"
      },
      "execution_count": null,
      "outputs": []
    },
    {
      "cell_type": "markdown",
      "source": [
        "#End of introduction."
      ],
      "metadata": {
        "id": "tLFmdiSyS2an"
      }
    },
    {
      "cell_type": "markdown",
      "source": [
        "# Variable assignment in python  :"
      ],
      "metadata": {
        "id": "V0GHXDI-trFY"
      }
    },
    {
      "cell_type": "markdown",
      "source": [
        "\n",
        "\n",
        " **Rules for variable names**\n",
        "\n",
        "names can not start with a number\n",
        "\n",
        "\n",
        "names can not contain spaces, use _ intead\n",
        "\n",
        "names can not contain any of these symbols:\n",
        "'\",<>/?|\\!@#%^&*~-+\n",
        "it's considered best practice (PEP8) that names are lowercase with underscores\n",
        "\n",
        "avoid using Python built-in keywords like list and str\n",
        "\n",
        "avoid using the single characters l , O  and I as they can be confused with 1 and 0\n",
        "\n"
      ],
      "metadata": {
        "id": "ciOdCL13uElX"
      }
    },
    {
      "cell_type": "markdown",
      "source": [
        "***Dynamic Typing***\n",
        "\n",
        "Python uses dynamic typing, meaning you can reassign variables to different data types. This makes Python very flexible in assigning data types; it differs from other languages that are statically typed."
      ],
      "metadata": {
        "id": "aomZJOBwunL2"
      }
    },
    {
      "cell_type": "code",
      "source": [
        "my_dogs = 2"
      ],
      "metadata": {
        "id": "UAyopHZ_tv2D"
      },
      "execution_count": null,
      "outputs": []
    },
    {
      "cell_type": "code",
      "source": [
        "my_dogs"
      ],
      "metadata": {
        "id": "UQ_IfPahvK5F",
        "colab": {
          "base_uri": "https://localhost:8080/"
        },
        "outputId": "ef7e01ba-44b1-4a38-b706-76d21808102b"
      },
      "execution_count": null,
      "outputs": [
        {
          "output_type": "execute_result",
          "data": {
            "text/plain": [
              "2"
            ]
          },
          "metadata": {},
          "execution_count": 2
        }
      ]
    },
    {
      "cell_type": "code",
      "source": [
        "my_dogs = ['Sammy', 'Frankie']"
      ],
      "metadata": {
        "id": "JfFenWXjtvyP"
      },
      "execution_count": null,
      "outputs": []
    },
    {
      "cell_type": "code",
      "source": [
        "my_dogs"
      ],
      "metadata": {
        "id": "Nurm5ZqHtvr_",
        "colab": {
          "base_uri": "https://localhost:8080/"
        },
        "outputId": "f991393d-1ebe-4c5d-a781-b61eb8737f4b"
      },
      "execution_count": null,
      "outputs": [
        {
          "output_type": "execute_result",
          "data": {
            "text/plain": [
              "['Sammy', 'Frankie']"
            ]
          },
          "metadata": {},
          "execution_count": 4
        }
      ]
    },
    {
      "cell_type": "markdown",
      "source": [
        "### Pros and Cons of Dynamic Typing\n",
        "#### Pros of Dynamic Typing\n",
        "* very easy to work with\n",
        "* faster development time\n",
        "\n",
        "#### Cons of Dynamic Typing\n",
        "* may result in unexpected bugs!\n",
        "* you need to be aware of type of the variable"
      ],
      "metadata": {
        "id": "O-4BG9C0ve0C"
      }
    },
    {
      "cell_type": "markdown",
      "source": [
        "***Assigning Variables***\n",
        "\n",
        "Variable assignment follows `name = object`, where a single equals sign `=` is an *assignment operator*"
      ],
      "metadata": {
        "id": "gL-pcVTmvn1Z"
      }
    },
    {
      "cell_type": "code",
      "source": [
        "a = 5 #assigning integer 5 to the variable 'a'"
      ],
      "metadata": {
        "id": "XOyDEtkmtvEK"
      },
      "execution_count": null,
      "outputs": []
    },
    {
      "cell_type": "code",
      "source": [
        "a + a  # Now we can use 'a' instead of 10"
      ],
      "metadata": {
        "colab": {
          "base_uri": "https://localhost:8080/"
        },
        "id": "fdc8HlpltvAS",
        "outputId": "8bd2ed9d-b112-4c5c-a445-e1e50b6d6c22"
      },
      "execution_count": null,
      "outputs": [
        {
          "output_type": "execute_result",
          "data": {
            "text/plain": [
              "10"
            ]
          },
          "metadata": {},
          "execution_count": 7
        }
      ]
    },
    {
      "cell_type": "code",
      "source": [
        "#Reassigning variables :\n",
        "a = a  + 10\n",
        "a"
      ],
      "metadata": {
        "colab": {
          "base_uri": "https://localhost:8080/"
        },
        "id": "T2xLFcx2v_TK",
        "outputId": "32e529a4-af20-4cda-b7b3-cf189a02dc88"
      },
      "execution_count": null,
      "outputs": [
        {
          "output_type": "execute_result",
          "data": {
            "text/plain": [
              "15"
            ]
          },
          "metadata": {},
          "execution_count": 8
        }
      ]
    },
    {
      "cell_type": "code",
      "source": [
        "#shortcut for this:\n",
        "a+=10\n",
        "a"
      ],
      "metadata": {
        "colab": {
          "base_uri": "https://localhost:8080/"
        },
        "id": "xTgyQ1vdwQpf",
        "outputId": "33d41f8e-6b9f-4a3b-b13f-23f2b78b3b8b"
      },
      "execution_count": null,
      "outputs": [
        {
          "output_type": "execute_result",
          "data": {
            "text/plain": [
              "25"
            ]
          },
          "metadata": {},
          "execution_count": 9
        }
      ]
    },
    {
      "cell_type": "code",
      "source": [
        "#same pattern follows for other operations:\n",
        "a -= 2  #  (25-2)\n",
        "a*= 4  #  (23*4)\n",
        "a/=2 # (92/2)\n",
        "a"
      ],
      "metadata": {
        "colab": {
          "base_uri": "https://localhost:8080/"
        },
        "id": "UcXefiUfwQmM",
        "outputId": "65fd0cf9-f556-4a7e-8cba-7a17edffe46e"
      },
      "execution_count": null,
      "outputs": [
        {
          "output_type": "execute_result",
          "data": {
            "text/plain": [
              "46.0"
            ]
          },
          "metadata": {},
          "execution_count": 10
        }
      ]
    },
    {
      "cell_type": "code",
      "source": [
        "# we can check the type of variable using the type() function"
      ],
      "metadata": {
        "id": "TneqaXjfwQi1"
      },
      "execution_count": null,
      "outputs": []
    },
    {
      "cell_type": "code",
      "source": [
        "type(a)"
      ],
      "metadata": {
        "id": "6N4ueBuFwQdt",
        "colab": {
          "base_uri": "https://localhost:8080/"
        },
        "outputId": "5970ca9d-d6a3-4574-c770-2f4c72fd4753"
      },
      "execution_count": null,
      "outputs": [
        {
          "output_type": "execute_result",
          "data": {
            "text/plain": [
              "float"
            ]
          },
          "metadata": {},
          "execution_count": 11
        }
      ]
    },
    {
      "cell_type": "code",
      "source": [
        "a = (1,2)"
      ],
      "metadata": {
        "id": "zo7n5mYFws5_"
      },
      "execution_count": null,
      "outputs": []
    },
    {
      "cell_type": "code",
      "source": [
        "type(a)"
      ],
      "metadata": {
        "id": "BFCYzp0Fws1t",
        "colab": {
          "base_uri": "https://localhost:8080/"
        },
        "outputId": "0e5fde47-a2ec-43af-be3d-d777a109f828"
      },
      "execution_count": null,
      "outputs": [
        {
          "output_type": "execute_result",
          "data": {
            "text/plain": [
              "tuple"
            ]
          },
          "metadata": {},
          "execution_count": 13
        }
      ]
    },
    {
      "cell_type": "markdown",
      "source": [
        "##End of Variables."
      ],
      "metadata": {
        "id": "M86i4CQytq0V"
      }
    },
    {
      "cell_type": "markdown",
      "source": [
        "#Starting with loops,<br>\n",
        "A for loop is used for iterating over a sequence (that is either a list, a tuple, a dictionary, a set, or a string)."
      ],
      "metadata": {
        "id": "70vmuxuQMpjz"
      }
    },
    {
      "cell_type": "code",
      "source": [
        "people = ['John', 'Paul', 'Sara', 'Susan']"
      ],
      "metadata": {
        "id": "C5WBgTHeCDJ4"
      },
      "execution_count": null,
      "outputs": []
    },
    {
      "cell_type": "code",
      "source": [
        "# Simple for loop.\n",
        "for person in people:\n",
        "  print(f'Current Person: {person}')   #string literals"
      ],
      "metadata": {
        "colab": {
          "base_uri": "https://localhost:8080/"
        },
        "id": "u2JNBEkGCKnD",
        "outputId": "f83ddfd6-c738-47d1-a204-d5d45e708874"
      },
      "execution_count": null,
      "outputs": [
        {
          "output_type": "stream",
          "name": "stdout",
          "text": [
            "Current Person: John\n",
            "Current Person: Paul\n",
            "Current Person: Sara\n",
            "Current Person: Susan\n"
          ]
        }
      ]
    },
    {
      "cell_type": "code",
      "source": [
        "# Break.\n",
        "for person in people:\n",
        "  if person == 'Sara':\n",
        "    break\n",
        "  print(f'Current Person: {person}')"
      ],
      "metadata": {
        "colab": {
          "base_uri": "https://localhost:8080/"
        },
        "id": "er5KWtVSCdpv",
        "outputId": "26b091e5-bb2a-4e96-a68b-b39efc851df6"
      },
      "execution_count": null,
      "outputs": [
        {
          "output_type": "stream",
          "name": "stdout",
          "text": [
            "Current Person: John\n",
            "Current Person: Paul\n"
          ]
        }
      ]
    },
    {
      "cell_type": "code",
      "source": [
        "# Continue.\n",
        "for person in people:\n",
        "  if person == 'Sara':\n",
        "    continue\n",
        "  print(f'Current Person: {person}')\n"
      ],
      "metadata": {
        "colab": {
          "base_uri": "https://localhost:8080/"
        },
        "id": "V9SRl5rsDVxW",
        "outputId": "7f7fc38b-bcfe-4e59-968e-2d8a094a5155"
      },
      "execution_count": null,
      "outputs": [
        {
          "output_type": "stream",
          "name": "stdout",
          "text": [
            "Current Person: John\n",
            "Current Person: Paul\n",
            "Current Person: Susan\n"
          ]
        }
      ]
    },
    {
      "cell_type": "code",
      "source": [
        "# Range.\n",
        "for i in range(len(people)):    #len(people) = 4\n",
        "  print(people[i])"
      ],
      "metadata": {
        "colab": {
          "base_uri": "https://localhost:8080/"
        },
        "id": "QgOJuLBBDYai",
        "outputId": "b0edacb8-f9d2-410c-d4c2-f20387698d08"
      },
      "execution_count": null,
      "outputs": [
        {
          "output_type": "stream",
          "name": "stdout",
          "text": [
            "John\n",
            "Paul\n",
            "Sara\n",
            "Susan\n"
          ]
        }
      ]
    },
    {
      "cell_type": "code",
      "source": [
        "# Range again.\n",
        "for i in range(0, 11):\n",
        "  print(f'Number: {i}')"
      ],
      "metadata": {
        "colab": {
          "base_uri": "https://localhost:8080/"
        },
        "id": "MIGBifayDozY",
        "outputId": "6d9407fa-b421-44e3-85ed-ad499109dd13"
      },
      "execution_count": null,
      "outputs": [
        {
          "output_type": "stream",
          "name": "stdout",
          "text": [
            "Number: 0\n",
            "Number: 1\n",
            "Number: 2\n",
            "Number: 3\n",
            "Number: 4\n",
            "Number: 5\n",
            "Number: 6\n",
            "Number: 7\n",
            "Number: 8\n",
            "Number: 9\n",
            "Number: 10\n"
          ]
        }
      ]
    },
    {
      "cell_type": "code",
      "source": [
        "# While loops are something that executes a set of statements as long as a condition is true.\n",
        "\n",
        "count = 0\n",
        "while count < 10:\n",
        "  print(f'Count: {count}')\n",
        "  count += 1"
      ],
      "metadata": {
        "colab": {
          "base_uri": "https://localhost:8080/"
        },
        "id": "OBUl9x4lDsx-",
        "outputId": "29e3e141-63e6-472e-abcf-162433ad0920"
      },
      "execution_count": null,
      "outputs": [
        {
          "output_type": "stream",
          "name": "stdout",
          "text": [
            "Count: 0\n",
            "Count: 1\n",
            "Count: 2\n",
            "Count: 3\n",
            "Count: 4\n",
            "Count: 5\n",
            "Count: 6\n",
            "Count: 7\n",
            "Count: 8\n",
            "Count: 9\n"
          ]
        }
      ]
    },
    {
      "cell_type": "markdown",
      "source": [
        "#End of loops with this."
      ],
      "metadata": {
        "id": "QpoNJZE9Nrdd"
      }
    },
    {
      "cell_type": "markdown",
      "source": [
        "# COLLECTIONS (Lists, Tuples, Sets, Dictionary )"
      ],
      "metadata": {
        "id": "ewcQUNy0C7JK"
      }
    },
    {
      "cell_type": "markdown",
      "source": [
        "A collection is a single variable used to store multiple values\n",
        "\n",
        "A List is a collection which is ordered and mutable (changeable). Allows duplicate members. Representation : '[]'\n",
        "\n",
        "\n",
        "\n"
      ],
      "metadata": {
        "id": "_QR3FyXKDn17"
      }
    },
    {
      "cell_type": "code",
      "source": [
        "# Assign a list to an variable named my_list\n",
        "my_list = [1,2,3]\n"
      ],
      "metadata": {
        "id": "pGFoiEtmLIk6"
      },
      "execution_count": null,
      "outputs": []
    },
    {
      "cell_type": "markdown",
      "source": [
        "We just created a list of integers, but lists can actually hold different object types. For example:"
      ],
      "metadata": {
        "id": "9QtyOYNsGfcN"
      }
    },
    {
      "cell_type": "code",
      "source": [
        "my_list = ['A string',23,100.232,'o']"
      ],
      "metadata": {
        "id": "I0aSWOcPGimj"
      },
      "execution_count": null,
      "outputs": []
    },
    {
      "cell_type": "code",
      "source": [
        "#Indexing and Slicing\n",
        "my_list = ['one','two','three',4,5]\n",
        "# Grab element at index 0\n",
        "print(my_list[0])\n",
        "\n",
        "# Grab index 1 and everything past it\n",
        "print(my_list[1:])\n",
        "\n",
        "# Grab everything UP TO index 3 (but not including)\n",
        "print(my_list[:3])\n",
        "\n",
        "#Grab everything from index 0 UP TO  index 2 (but not including)\n",
        "print(my_list[:2])\n",
        "1:5:2\n",
        "#Grab everything from index 0 to the end  with a step of 2\n",
        "print(my_list[::2])\n",
        "\n",
        "#Grab everything in the list but with a step of 2 (basically every alternate )\n",
        "print(my_list[::2])"
      ],
      "metadata": {
        "colab": {
          "base_uri": "https://localhost:8080/"
        },
        "id": "keNcRKbuGl4D",
        "outputId": "b9721e08-ca67-4ffb-9254-646c0bbf9b28"
      },
      "execution_count": null,
      "outputs": [
        {
          "output_type": "stream",
          "name": "stdout",
          "text": [
            "one\n",
            "['two', 'three', 4, 5]\n",
            "['one', 'two', 'three']\n",
            "['one', 'two']\n",
            "['one', 4]\n",
            "['one', 'three', 5]\n"
          ]
        }
      ]
    },
    {
      "cell_type": "code",
      "source": [
        "my_list + ['new item']"
      ],
      "metadata": {
        "colab": {
          "base_uri": "https://localhost:8080/"
        },
        "id": "lN8a40KyG0CH",
        "outputId": "b6adc890-7503-42cb-808b-c6f39de2b0bf"
      },
      "execution_count": null,
      "outputs": [
        {
          "output_type": "execute_result",
          "data": {
            "text/plain": [
              "['one', 'two', 'three', 4, 5, 'new item']"
            ]
          },
          "metadata": {},
          "execution_count": 12
        }
      ]
    },
    {
      "cell_type": "code",
      "source": [
        "#The original list does not change, you need to re-assign it\n",
        "my_list"
      ],
      "metadata": {
        "colab": {
          "base_uri": "https://localhost:8080/"
        },
        "id": "XjTqVCmtM_Qh",
        "outputId": "507b7ef8-67e6-4261-c503-7aecf9f35b1f"
      },
      "execution_count": null,
      "outputs": [
        {
          "output_type": "execute_result",
          "data": {
            "text/plain": [
              "['one', 'two', 'three', 4, 5]"
            ]
          },
          "metadata": {},
          "execution_count": 13
        }
      ]
    },
    {
      "cell_type": "code",
      "source": [
        "# Reassign\n",
        "my_list = my_list + ['add new item permanently']\n",
        "print(my_list)"
      ],
      "metadata": {
        "colab": {
          "base_uri": "https://localhost:8080/"
        },
        "id": "zlk1uovNNFQn",
        "outputId": "2440ba30-5cd8-447b-b6ab-a44b3b80ab9e"
      },
      "execution_count": null,
      "outputs": [
        {
          "output_type": "stream",
          "name": "stdout",
          "text": [
            "['one', 'two', 'three', 4, 5, 'add new item permanently']\n"
          ]
        }
      ]
    },
    {
      "cell_type": "markdown",
      "source": [
        "List Methods :"
      ],
      "metadata": {
        "id": "X20SqLPhGmdw"
      }
    },
    {
      "cell_type": "code",
      "source": [
        "fruits = ['Apples', 'Oranges', 'Grapes', 'Pears']\n",
        "# Get length\n",
        "print(len(fruits))"
      ],
      "metadata": {
        "colab": {
          "base_uri": "https://localhost:8080/"
        },
        "id": "hnIH_OTkNr0j",
        "outputId": "e1f1e3bd-aab5-4205-ab46-86d664257337"
      },
      "execution_count": null,
      "outputs": [
        {
          "output_type": "stream",
          "name": "stdout",
          "text": [
            "4\n"
          ]
        }
      ]
    },
    {
      "cell_type": "code",
      "source": [
        "# Append to list it is always end of the list\n",
        "fruits.append('Mangos')\n",
        "print(fruits)"
      ],
      "metadata": {
        "colab": {
          "base_uri": "https://localhost:8080/"
        },
        "id": "6i3ad-hdN0pB",
        "outputId": "d9109f98-2345-49d1-ccb7-8612ddb51a85"
      },
      "execution_count": null,
      "outputs": [
        {
          "output_type": "stream",
          "name": "stdout",
          "text": [
            "['Apples', 'Oranges', 'Grapes', 'Pears', 'Mangos']\n"
          ]
        }
      ]
    },
    {
      "cell_type": "code",
      "source": [
        "# Remove from list\n",
        "fruits.remove('Grapes')\n",
        "print(fruits)"
      ],
      "metadata": {
        "colab": {
          "base_uri": "https://localhost:8080/"
        },
        "id": "IvDnciNRN0mV",
        "outputId": "7f72bbc4-e816-4b13-b459-34955e377fe7",
        "collapsed": true
      },
      "execution_count": null,
      "outputs": [
        {
          "output_type": "stream",
          "name": "stdout",
          "text": [
            "['Apples', 'Oranges', 'Pears', 'Mangos']\n"
          ]
        }
      ]
    },
    {
      "cell_type": "code",
      "source": [
        "# Insert into position\n",
        "fruits.insert(2, 'Strawberries')\n",
        "print(fruits)"
      ],
      "metadata": {
        "colab": {
          "base_uri": "https://localhost:8080/"
        },
        "id": "SSNFGMxWN0jc",
        "outputId": "d98f655f-20de-42d0-b5a1-e6ca4b3c1caf"
      },
      "execution_count": null,
      "outputs": [
        {
          "output_type": "stream",
          "name": "stdout",
          "text": [
            "['Apples', 'Oranges', 'Strawberries', 'Pears', 'Mangos']\n"
          ]
        }
      ]
    },
    {
      "cell_type": "code",
      "source": [
        "# Change value\n",
        "fruits[0] = 'Blueberries'   #As discussed, lists are mutable\n",
        "print(fruits)"
      ],
      "metadata": {
        "colab": {
          "base_uri": "https://localhost:8080/"
        },
        "id": "nVXpSfPvN0gi",
        "outputId": "78263262-03fd-4b9f-9c0a-bffcf852be19"
      },
      "execution_count": null,
      "outputs": [
        {
          "output_type": "stream",
          "name": "stdout",
          "text": [
            "['Blueberries', 'Oranges', 'Strawberries', 'Pears', 'Mangos']\n"
          ]
        }
      ]
    },
    {
      "cell_type": "code",
      "source": [
        "# Remove with pop\n",
        "fruits.pop(2)\n",
        "print(fruits)\n",
        "\n",
        "# If brackets are left empty then the last element in the list automatically gets popped\n",
        "fruits.pop()\n",
        "print(fruits)"
      ],
      "metadata": {
        "colab": {
          "base_uri": "https://localhost:8080/"
        },
        "id": "TqliAzNZN0dr",
        "outputId": "46d35af9-f24f-454a-9a0f-110b89872602"
      },
      "execution_count": null,
      "outputs": [
        {
          "output_type": "stream",
          "name": "stdout",
          "text": [
            "['Apples', 'Oranges', 'Pears', 'Mangos']\n",
            "['Apples', 'Oranges', 'Pears']\n"
          ]
        }
      ]
    },
    {
      "cell_type": "code",
      "source": [
        "# Reverse list\n",
        "fruits.reverse()\n",
        "print(fruits)"
      ],
      "metadata": {
        "colab": {
          "base_uri": "https://localhost:8080/"
        },
        "id": "2yLlqGxfN0ah",
        "outputId": "95976c67-6a39-4921-d9ab-5b012e418e43"
      },
      "execution_count": null,
      "outputs": [
        {
          "output_type": "stream",
          "name": "stdout",
          "text": [
            "['Pears', 'Oranges', 'Apples']\n"
          ]
        }
      ]
    },
    {
      "cell_type": "code",
      "source": [
        "# Sort list\n",
        "numlist = [1,2,6321,5,611,56,4,3]\n",
        "numlist.sort()\n",
        "print(numlist)"
      ],
      "metadata": {
        "colab": {
          "base_uri": "https://localhost:8080/"
        },
        "id": "PXVB6qHdOZab",
        "outputId": "61e96b5b-57d8-4191-9c3b-7c5be7f5215e"
      },
      "execution_count": null,
      "outputs": [
        {
          "output_type": "stream",
          "name": "stdout",
          "text": [
            "[1, 2, 3, 4, 5, 56, 611, 6321]\n"
          ]
        }
      ]
    },
    {
      "cell_type": "code",
      "source": [
        "# Reverse sort\n",
        "numlist.sort(reverse = True)\n",
        "print(numlist)"
      ],
      "metadata": {
        "colab": {
          "base_uri": "https://localhost:8080/"
        },
        "id": "ncjOM0kiOZWV",
        "outputId": "27909d89-f900-4806-9802-2eae8ba7eb60"
      },
      "execution_count": null,
      "outputs": [
        {
          "output_type": "stream",
          "name": "stdout",
          "text": [
            "[6321, 611, 56, 5, 4, 3, 2, 1]\n"
          ]
        }
      ]
    },
    {
      "cell_type": "code",
      "source": [
        "#To get more information about the different methods use the following syntax :\n",
        "print(dir(fruits))\n"
      ],
      "metadata": {
        "id": "FkbNIXYsWCkW",
        "colab": {
          "base_uri": "https://localhost:8080/"
        },
        "outputId": "35e32ee6-b05b-432e-a0f3-fca7f2f29cea"
      },
      "execution_count": null,
      "outputs": [
        {
          "output_type": "stream",
          "name": "stdout",
          "text": [
            "['__add__', '__class__', '__class_getitem__', '__contains__', '__delattr__', '__delitem__', '__dir__', '__doc__', '__eq__', '__format__', '__ge__', '__getattribute__', '__getitem__', '__gt__', '__hash__', '__iadd__', '__imul__', '__init__', '__init_subclass__', '__iter__', '__le__', '__len__', '__lt__', '__mul__', '__ne__', '__new__', '__reduce__', '__reduce_ex__', '__repr__', '__reversed__', '__rmul__', '__setattr__', '__setitem__', '__sizeof__', '__str__', '__subclasshook__', 'append', 'clear', 'copy', 'count', 'extend', 'index', 'insert', 'pop', 'remove', 'reverse', 'sort']\n"
          ]
        }
      ]
    },
    {
      "cell_type": "code",
      "source": [
        "print(help(fruits))"
      ],
      "metadata": {
        "id": "BovXKH-oVseZ",
        "colab": {
          "base_uri": "https://localhost:8080/"
        },
        "outputId": "3e451beb-d754-42d7-aa33-910e660783aa",
        "collapsed": true
      },
      "execution_count": null,
      "outputs": [
        {
          "output_type": "stream",
          "name": "stdout",
          "text": [
            "Help on list object:\n",
            "\n",
            "class list(object)\n",
            " |  list(iterable=(), /)\n",
            " |  \n",
            " |  Built-in mutable sequence.\n",
            " |  \n",
            " |  If no argument is given, the constructor creates a new empty list.\n",
            " |  The argument must be an iterable if specified.\n",
            " |  \n",
            " |  Methods defined here:\n",
            " |  \n",
            " |  __add__(self, value, /)\n",
            " |      Return self+value.\n",
            " |  \n",
            " |  __contains__(self, key, /)\n",
            " |      Return key in self.\n",
            " |  \n",
            " |  __delitem__(self, key, /)\n",
            " |      Delete self[key].\n",
            " |  \n",
            " |  __eq__(self, value, /)\n",
            " |      Return self==value.\n",
            " |  \n",
            " |  __ge__(self, value, /)\n",
            " |      Return self>=value.\n",
            " |  \n",
            " |  __getattribute__(self, name, /)\n",
            " |      Return getattr(self, name).\n",
            " |  \n",
            " |  __getitem__(...)\n",
            " |      x.__getitem__(y) <==> x[y]\n",
            " |  \n",
            " |  __gt__(self, value, /)\n",
            " |      Return self>value.\n",
            " |  \n",
            " |  __iadd__(self, value, /)\n",
            " |      Implement self+=value.\n",
            " |  \n",
            " |  __imul__(self, value, /)\n",
            " |      Implement self*=value.\n",
            " |  \n",
            " |  __init__(self, /, *args, **kwargs)\n",
            " |      Initialize self.  See help(type(self)) for accurate signature.\n",
            " |  \n",
            " |  __iter__(self, /)\n",
            " |      Implement iter(self).\n",
            " |  \n",
            " |  __le__(self, value, /)\n",
            " |      Return self<=value.\n",
            " |  \n",
            " |  __len__(self, /)\n",
            " |      Return len(self).\n",
            " |  \n",
            " |  __lt__(self, value, /)\n",
            " |      Return self<value.\n",
            " |  \n",
            " |  __mul__(self, value, /)\n",
            " |      Return self*value.\n",
            " |  \n",
            " |  __ne__(self, value, /)\n",
            " |      Return self!=value.\n",
            " |  \n",
            " |  __repr__(self, /)\n",
            " |      Return repr(self).\n",
            " |  \n",
            " |  __reversed__(self, /)\n",
            " |      Return a reverse iterator over the list.\n",
            " |  \n",
            " |  __rmul__(self, value, /)\n",
            " |      Return value*self.\n",
            " |  \n",
            " |  __setitem__(self, key, value, /)\n",
            " |      Set self[key] to value.\n",
            " |  \n",
            " |  __sizeof__(self, /)\n",
            " |      Return the size of the list in memory, in bytes.\n",
            " |  \n",
            " |  append(self, object, /)\n",
            " |      Append object to the end of the list.\n",
            " |  \n",
            " |  clear(self, /)\n",
            " |      Remove all items from list.\n",
            " |  \n",
            " |  copy(self, /)\n",
            " |      Return a shallow copy of the list.\n",
            " |  \n",
            " |  count(self, value, /)\n",
            " |      Return number of occurrences of value.\n",
            " |  \n",
            " |  extend(self, iterable, /)\n",
            " |      Extend list by appending elements from the iterable.\n",
            " |  \n",
            " |  index(self, value, start=0, stop=9223372036854775807, /)\n",
            " |      Return first index of value.\n",
            " |      \n",
            " |      Raises ValueError if the value is not present.\n",
            " |  \n",
            " |  insert(self, index, object, /)\n",
            " |      Insert object before index.\n",
            " |  \n",
            " |  pop(self, index=-1, /)\n",
            " |      Remove and return item at index (default last).\n",
            " |      \n",
            " |      Raises IndexError if list is empty or index is out of range.\n",
            " |  \n",
            " |  remove(self, value, /)\n",
            " |      Remove first occurrence of value.\n",
            " |      \n",
            " |      Raises ValueError if the value is not present.\n",
            " |  \n",
            " |  reverse(self, /)\n",
            " |      Reverse *IN PLACE*.\n",
            " |  \n",
            " |  sort(self, /, *, key=None, reverse=False)\n",
            " |      Sort the list in ascending order and return None.\n",
            " |      \n",
            " |      The sort is in-place (i.e. the list itself is modified) and stable (i.e. the\n",
            " |      order of two equal elements is maintained).\n",
            " |      \n",
            " |      If a key function is given, apply it once to each list item and sort them,\n",
            " |      ascending or descending, according to their function values.\n",
            " |      \n",
            " |      The reverse flag can be set to sort in descending order.\n",
            " |  \n",
            " |  ----------------------------------------------------------------------\n",
            " |  Class methods defined here:\n",
            " |  \n",
            " |  __class_getitem__(...) from builtins.type\n",
            " |      See PEP 585\n",
            " |  \n",
            " |  ----------------------------------------------------------------------\n",
            " |  Static methods defined here:\n",
            " |  \n",
            " |  __new__(*args, **kwargs) from builtins.type\n",
            " |      Create and return a new object.  See help(type) for accurate signature.\n",
            " |  \n",
            " |  ----------------------------------------------------------------------\n",
            " |  Data and other attributes defined here:\n",
            " |  \n",
            " |  __hash__ = None\n",
            "\n",
            "None\n"
          ]
        }
      ]
    },
    {
      "cell_type": "markdown",
      "source": [
        "***LIST COMPREHENSIONS***\n",
        "\n",
        "List comprehensions allow us to build out lists using a different notation. You can think of it as essentially a one line for loop built inside of brackets.\n",
        "Syntax :\n",
        "\n",
        "newlist = [expression **for**  item **in** iterable **if** condition == True]\n",
        "\n",
        "The return value is a new list, leaving the old list unchanged.\n",
        "\n"
      ],
      "metadata": {
        "id": "pMWsta7QxUxk"
      }
    },
    {
      "cell_type": "code",
      "source": [
        "# Grab every letter in string\n",
        "lst = [x for x in 'word']\n",
        "lst"
      ],
      "metadata": {
        "id": "_QTuAddNxT8Y",
        "colab": {
          "base_uri": "https://localhost:8080/"
        },
        "outputId": "6e8508e7-5c95-4f5e-9f11-e3270ef0842f"
      },
      "execution_count": null,
      "outputs": [
        {
          "output_type": "execute_result",
          "data": {
            "text/plain": [
              "['w', 'o', 'r', 'd']"
            ]
          },
          "metadata": {},
          "execution_count": 20
        }
      ]
    },
    {
      "cell_type": "code",
      "source": [
        "#We want to grab every element in a list which has an  'a'\n",
        "fruits = [\"apple\", \"banana\", \"cherry\", \"kiwi\", \"mango\"]\n",
        "\n",
        "for x in fruits:\n",
        "  if \"a\" in x:\n",
        "    newlist.append(x)\n",
        "\n",
        "\n",
        "\n",
        "\n",
        "print(newlist)\n",
        "\n",
        "\n",
        "#Easier way using list comprehensions\n",
        "fruits = [\"apple\", \"banana\", \"cherry\", \"kiwi\", \"mango\"]\n",
        "\n",
        "newlist = [x*2 for x in fruits if \"a\" in x]\n",
        "print(newlist)\n",
        "\n",
        "\n"
      ],
      "metadata": {
        "id": "OJGLHmkJy6i_",
        "colab": {
          "base_uri": "https://localhost:8080/"
        },
        "outputId": "79cda3e1-1eeb-4093-930d-ac9935f68fd1"
      },
      "execution_count": null,
      "outputs": [
        {
          "output_type": "stream",
          "name": "stdout",
          "text": [
            "['apple', 'banana', 'mango']\n",
            "['apple', 'banana', 'mango']\n"
          ]
        }
      ]
    },
    {
      "cell_type": "markdown",
      "source": [
        "A tuple is ordered and  immutable (unchangeable), allows duplicate members.. Representation : '()'\n",
        "\n",
        "A set is unordered,unindexed and immutable, no duplicates are allowed. Representation : '{}'\n"
      ],
      "metadata": {
        "id": "Eh89T-UtN0Nh"
      }
    },
    {
      "cell_type": "code",
      "source": [
        "# Create tuple\n",
        "fruits = ('Apples', 'Oranges', 'Grapes','Apples')\n",
        "\n",
        "#Can also mix object types\n",
        "t = ('one',2,3,4,5,'six')\n",
        "\n",
        "# Use indexing and slicing just like we did in lists\n",
        "print(t[:])\n",
        "\n",
        "# REMEMBER:  Single value needs trailing comma!!\n",
        "fruits2 = ('Apples',)\n",
        "\n",
        "# Get value\n",
        "print(fruits[1])\n",
        "\n",
        "# Can't change value (immutability)\n",
        "#fruits[0] = 'Pears'\n",
        "\n",
        "# Delete tuple\n",
        "del fruits2\n",
        "\n"
      ],
      "metadata": {
        "id": "o-1lPDNiTTI8",
        "colab": {
          "base_uri": "https://localhost:8080/"
        },
        "outputId": "a43bda08-7db9-4f6e-ef86-83c9a1210044"
      },
      "execution_count": null,
      "outputs": [
        {
          "output_type": "stream",
          "name": "stdout",
          "text": [
            "('one', 2, 3, 4, 5, 'six')\n",
            "Oranges\n"
          ]
        }
      ]
    },
    {
      "cell_type": "code",
      "source": [
        "# Get length\n",
        "print(len(fruits))"
      ],
      "metadata": {
        "id": "pYe4WcyPaDO_",
        "colab": {
          "base_uri": "https://localhost:8080/"
        },
        "outputId": "0f6bfdb0-ba0f-4702-b1d7-67a4493151e4"
      },
      "execution_count": null,
      "outputs": [
        {
          "output_type": "stream",
          "name": "stdout",
          "text": [
            "4\n"
          ]
        }
      ]
    },
    {
      "cell_type": "code",
      "source": [
        "#Returns count of a particular element in the tuple\n",
        "\n",
        "print(fruits.count('Strawberries'))\n",
        "print(fruits.count('Oranges'))\n",
        "print(fruits.count('Apples'))"
      ],
      "metadata": {
        "collapsed": true,
        "id": "SW8o0MsLawtj",
        "colab": {
          "base_uri": "https://localhost:8080/"
        },
        "outputId": "0ecf2543-0a15-4e1c-a0d0-04c9308eb470"
      },
      "execution_count": null,
      "outputs": [
        {
          "output_type": "stream",
          "name": "stdout",
          "text": [
            "0\n",
            "1\n",
            "2\n"
          ]
        }
      ]
    },
    {
      "cell_type": "code",
      "source": [
        "#Returns index of a particular element in the tuple\n",
        "\n",
        "print(fruits.index('Oranges'))\n",
        "print(fruits.index('Apples'))"
      ],
      "metadata": {
        "id": "mDVUlfJra0xi",
        "colab": {
          "base_uri": "https://localhost:8080/"
        },
        "outputId": "b1ef0475-97da-4f0f-b6fd-5ae8195af77b"
      },
      "execution_count": null,
      "outputs": [
        {
          "output_type": "stream",
          "name": "stdout",
          "text": [
            "1\n",
            "0\n"
          ]
        }
      ]
    },
    {
      "cell_type": "code",
      "source": [
        "#Sets can be useful when you want to force the user to enter something unique\n",
        "# Create set\n",
        "fruits_set = {'Apples', 'Oranges', 'Mango'}\n",
        "\n",
        "# Check if in set\n",
        "print('Apples' in fruits_set)\n",
        "\n",
        "# Add to set\n",
        "fruits_set.add('Grape')\n",
        "\n",
        "# Remove from set\n",
        "fruits_set.remove('Grape')\n",
        "\n",
        "# Add duplicate\n",
        "fruits_set.add('Apples')\n",
        "\n",
        "print(fruits_set)\n",
        "# Clear set\n",
        "fruits_set.clear()\n",
        "print(fruits_set)\n"
      ],
      "metadata": {
        "id": "c249_nNwTpFh",
        "colab": {
          "base_uri": "https://localhost:8080/"
        },
        "collapsed": true,
        "outputId": "544f7fbb-a717-410f-e157-258824d56577"
      },
      "execution_count": null,
      "outputs": [
        {
          "output_type": "stream",
          "name": "stdout",
          "text": [
            "True\n",
            "{'Apples', 'Mango', 'Oranges'}\n",
            "set()\n"
          ]
        }
      ]
    },
    {
      "cell_type": "markdown",
      "source": [
        "**DICTIONARIES**\n",
        "\n",
        "Dictionaries are used to store data values in key:value pairs.\n",
        "\n",
        "A dictionary is a collection which is ordered*, changeable and do not allow duplicates.\n",
        "\n",
        "*As of Python version 3.7, dictionaries are ordered. In Python 3.6 and earlier, dictionaries are unordered."
      ],
      "metadata": {
        "id": "sOe65ODLYlqM"
      }
    },
    {
      "cell_type": "code",
      "source": [
        "my_dict = {\n",
        "    'key1': 'value1',\n",
        "    'key2':'value2'\n",
        "    }\n",
        "\n",
        "print(my_dict['key1'])"
      ],
      "metadata": {
        "colab": {
          "base_uri": "https://localhost:8080/"
        },
        "id": "DUICNsgCYVXH",
        "outputId": "0c951f83-92b6-4a1d-8249-458a1e7425fc"
      },
      "execution_count": null,
      "outputs": [
        {
          "output_type": "stream",
          "name": "stdout",
          "text": [
            "value1\n"
          ]
        }
      ]
    },
    {
      "cell_type": "code",
      "source": [
        "# Call values by their key\n",
        "my_dict['key2']"
      ],
      "metadata": {
        "id": "a_I5HKm_YVTu"
      },
      "execution_count": null,
      "outputs": []
    },
    {
      "cell_type": "code",
      "source": [
        "my_dict = {\n",
        "    'key1':123,\n",
        "    'key2':[12,23,33],\n",
        "    'key3':['item0','item1','item2']\n",
        "    }"
      ],
      "metadata": {
        "id": "6ZeVBF0PYVQm"
      },
      "execution_count": null,
      "outputs": []
    },
    {
      "cell_type": "code",
      "source": [
        "print(my_dict['key1'])\n",
        "print(my_dict['key2'])\n",
        "print(my_dict['key2'][2])"
      ],
      "metadata": {
        "colab": {
          "base_uri": "https://localhost:8080/"
        },
        "id": "NLaLaT6pYVNy",
        "outputId": "9391e926-166d-4eb7-bfff-d93c27aa86eb"
      },
      "execution_count": null,
      "outputs": [
        {
          "output_type": "stream",
          "name": "stdout",
          "text": [
            "123\n",
            "[12, 23, 33]\n",
            "33\n"
          ]
        }
      ]
    },
    {
      "cell_type": "markdown",
      "source": [
        "We can also create keys by assignment. For instance if we started off with an empty dictionary, we could continually add to it\n",
        "\n"
      ],
      "metadata": {
        "id": "UOGtL_VeasYM"
      }
    },
    {
      "cell_type": "code",
      "source": [
        "# Create a new dictionary\n",
        "d = {}\n",
        "# Create new keys through assignment\n",
        "d['animal'] = 'Dog'   #d['key'] = 'value'\n",
        "d['answer'] = 42\n",
        "# Show\n",
        "print(d)"
      ],
      "metadata": {
        "id": "aUYgx8IsYUgx",
        "colab": {
          "base_uri": "https://localhost:8080/"
        },
        "outputId": "773a5d93-3e2e-46d2-df41-33cc76eaeef3"
      },
      "execution_count": null,
      "outputs": [
        {
          "output_type": "stream",
          "name": "stdout",
          "text": [
            "{'animal': 'Dog', 'answer': 42}\n"
          ]
        }
      ]
    },
    {
      "cell_type": "code",
      "source": [
        "# Create a typical dictionary\n",
        "d = {'key1':1,'key2':2,'key3':3}\n",
        "# Method to return a list of all keys\n",
        "d.keys()\n"
      ],
      "metadata": {
        "colab": {
          "base_uri": "https://localhost:8080/"
        },
        "id": "KFN4Nl_obIou",
        "outputId": "f360e0b4-d500-42d5-f144-092031fa191d"
      },
      "execution_count": null,
      "outputs": [
        {
          "output_type": "execute_result",
          "data": {
            "text/plain": [
              "dict_keys(['key1', 'key2', 'key3'])"
            ]
          },
          "metadata": {},
          "execution_count": 33
        }
      ]
    },
    {
      "cell_type": "code",
      "source": [
        "# Method to grab all values\n",
        "d.values()"
      ],
      "metadata": {
        "colab": {
          "base_uri": "https://localhost:8080/"
        },
        "id": "rgqlKuLCbMhC",
        "outputId": "56c71965-a78d-42ac-a7d4-75e8069f2255"
      },
      "execution_count": null,
      "outputs": [
        {
          "output_type": "execute_result",
          "data": {
            "text/plain": [
              "dict_values([1, 2, 3])"
            ]
          },
          "metadata": {},
          "execution_count": 34
        }
      ]
    },
    {
      "cell_type": "code",
      "source": [
        "print(d.items())"
      ],
      "metadata": {
        "colab": {
          "base_uri": "https://localhost:8080/"
        },
        "id": "kdgXGY_6bPCc",
        "outputId": "e4daf6a3-7303-4003-ac90-d4df97fab67e"
      },
      "execution_count": null,
      "outputs": [
        {
          "output_type": "stream",
          "name": "stdout",
          "text": [
            "dict_items([('key1', 1), ('key2', 2), ('key3', 3)])\n"
          ]
        }
      ]
    },
    {
      "cell_type": "markdown",
      "source": [
        "#COLLECTIONS ENDS HERE"
      ],
      "metadata": {
        "id": "qsTeuTuJqw7o"
      }
    },
    {
      "cell_type": "markdown",
      "source": [
        "# STRINGS\n",
        "\n",
        "Strings in python are surrounded by either single or double quotation marks."
      ],
      "metadata": {
        "id": "4dyxXvpIFeqc"
      }
    },
    {
      "cell_type": "code",
      "source": [
        "name = 'Brad'\n",
        "age = 37"
      ],
      "metadata": {
        "id": "Y5FeNHvIFmZT"
      },
      "execution_count": null,
      "outputs": []
    },
    {
      "cell_type": "code",
      "source": [
        "# Concatenate\n",
        "print('Hello, my name is ' + name + ' and I am ' + str(age))"
      ],
      "metadata": {
        "colab": {
          "base_uri": "https://localhost:8080/"
        },
        "collapsed": true,
        "id": "zvsgLhEOGGDp",
        "outputId": "f3e3fc8c-679c-4b80-a792-9bec40e7f789"
      },
      "execution_count": null,
      "outputs": [
        {
          "output_type": "stream",
          "name": "stdout",
          "text": [
            "Hello, my name is Brad and I am 37\n"
          ]
        }
      ]
    },
    {
      "cell_type": "markdown",
      "source": [
        "**String Formatting**"
      ],
      "metadata": {
        "id": "CApb2l1_GSEf"
      }
    },
    {
      "cell_type": "code",
      "source": [
        "# Arguments by position\n",
        "print('My name is {name} and I am {age}'.format(name=name, age=age))"
      ],
      "metadata": {
        "colab": {
          "base_uri": "https://localhost:8080/"
        },
        "id": "xwzhEFMBGVDF",
        "outputId": "7c20a551-92d9-4e01-e0ad-e12e4ab38171"
      },
      "execution_count": null,
      "outputs": [
        {
          "output_type": "stream",
          "name": "stdout",
          "text": [
            "My name is Brad and I am 37\n"
          ]
        }
      ]
    },
    {
      "cell_type": "code",
      "source": [
        "# F-Strings (3.6+)\n",
        "print(f'Hello, my name is {name} and I am {age}')"
      ],
      "metadata": {
        "colab": {
          "base_uri": "https://localhost:8080/"
        },
        "id": "cI1r6QR_Gbpl",
        "outputId": "54f58319-560d-4d67-9d3f-168d2941b2fb"
      },
      "execution_count": null,
      "outputs": [
        {
          "output_type": "stream",
          "name": "stdout",
          "text": [
            "Hello, my name is Brad and I am 37\n"
          ]
        }
      ]
    },
    {
      "cell_type": "markdown",
      "source": [
        "**String Methods**"
      ],
      "metadata": {
        "id": "a6zy6-NMGosm"
      }
    },
    {
      "cell_type": "code",
      "source": [
        "s = 'helloworld'"
      ],
      "metadata": {
        "id": "uDTyfi49GiQF"
      },
      "execution_count": null,
      "outputs": []
    },
    {
      "cell_type": "code",
      "source": [
        "# Capitalize string\n",
        "print(s.capitalize())"
      ],
      "metadata": {
        "colab": {
          "base_uri": "https://localhost:8080/"
        },
        "id": "Ea4Z0YHMG9V4",
        "outputId": "e1352034-58b2-4962-a957-86247f917b78"
      },
      "execution_count": null,
      "outputs": [
        {
          "output_type": "stream",
          "name": "stdout",
          "text": [
            "Helloworld\n"
          ]
        }
      ]
    },
    {
      "cell_type": "code",
      "source": [
        "# Make all uppercase\n",
        "print(s.upper())"
      ],
      "metadata": {
        "colab": {
          "base_uri": "https://localhost:8080/"
        },
        "id": "WtIuS5qRHRb6",
        "outputId": "91f9299e-2ae7-412c-ff91-4a07c48871cf"
      },
      "execution_count": null,
      "outputs": [
        {
          "output_type": "stream",
          "name": "stdout",
          "text": [
            "HELLOWORLD\n"
          ]
        }
      ]
    },
    {
      "cell_type": "code",
      "source": [
        "# Make all lower\n",
        "print(s.lower())"
      ],
      "metadata": {
        "colab": {
          "base_uri": "https://localhost:8080/"
        },
        "id": "Du-eDqk6HcQ7",
        "outputId": "f7cff3b9-73ac-4531-dd53-117167de89ce"
      },
      "execution_count": null,
      "outputs": [
        {
          "output_type": "stream",
          "name": "stdout",
          "text": [
            "helloworld\n"
          ]
        }
      ]
    },
    {
      "cell_type": "code",
      "source": [
        "# Swap case\n",
        "print(s.swapcase())\n"
      ],
      "metadata": {
        "colab": {
          "base_uri": "https://localhost:8080/"
        },
        "id": "giGhAqHgHmI3",
        "outputId": "7f4264a2-c61f-4210-c600-416c3ee69d03"
      },
      "execution_count": null,
      "outputs": [
        {
          "output_type": "stream",
          "name": "stdout",
          "text": [
            "HELLOWORLD\n"
          ]
        }
      ]
    },
    {
      "cell_type": "code",
      "source": [
        "# Get length\n",
        "print(len(s))"
      ],
      "metadata": {
        "colab": {
          "base_uri": "https://localhost:8080/"
        },
        "id": "ztsHKP_1HyOP",
        "outputId": "d0d1fb6b-d1d6-4875-8c2a-4242fb284d06"
      },
      "execution_count": null,
      "outputs": [
        {
          "output_type": "stream",
          "name": "stdout",
          "text": [
            "10\n"
          ]
        }
      ]
    },
    {
      "cell_type": "code",
      "source": [
        "# Replace\n",
        "print(s.replace('world', 'everyone'))  # (Previous one , new one)"
      ],
      "metadata": {
        "colab": {
          "base_uri": "https://localhost:8080/"
        },
        "id": "LyedO2qsH3kq",
        "outputId": "c7ec37ef-307d-4063-b68a-eabe9205f4c3"
      },
      "execution_count": null,
      "outputs": [
        {
          "output_type": "stream",
          "name": "stdout",
          "text": [
            "helloeveryone\n"
          ]
        }
      ]
    },
    {
      "cell_type": "code",
      "source": [
        "# Count\n",
        "sub = 'h'\n",
        "print(s.count(sub))"
      ],
      "metadata": {
        "colab": {
          "base_uri": "https://localhost:8080/"
        },
        "id": "OfPBsGqXIFdi",
        "outputId": "ebcb073e-4b6a-4047-a297-eedfca838a42"
      },
      "execution_count": null,
      "outputs": [
        {
          "output_type": "stream",
          "name": "stdout",
          "text": [
            "1\n"
          ]
        }
      ]
    },
    {
      "cell_type": "code",
      "source": [
        "# Starts with\n",
        "print(s.startswith('hello'))"
      ],
      "metadata": {
        "colab": {
          "base_uri": "https://localhost:8080/"
        },
        "id": "1gBSoIdrIIfR",
        "outputId": "7dcc7e8c-020f-4cac-9a9e-bdd2fdefb802"
      },
      "execution_count": null,
      "outputs": [
        {
          "output_type": "stream",
          "name": "stdout",
          "text": [
            "True\n"
          ]
        }
      ]
    },
    {
      "cell_type": "code",
      "source": [
        "# Ends with\n",
        "print(s.endswith('d'))\n"
      ],
      "metadata": {
        "colab": {
          "base_uri": "https://localhost:8080/"
        },
        "id": "6zvtpi7AINXH",
        "outputId": "be1945bb-6cea-474b-f1e9-e0a1ad4c3b8c"
      },
      "execution_count": null,
      "outputs": [
        {
          "output_type": "stream",
          "name": "stdout",
          "text": [
            "True\n"
          ]
        }
      ]
    },
    {
      "cell_type": "code",
      "source": [
        "# Split into a list\n",
        "print(s.split())"
      ],
      "metadata": {
        "colab": {
          "base_uri": "https://localhost:8080/"
        },
        "id": "ZetV0MWGIXfb",
        "outputId": "743fe1fe-c4c6-4a4f-d4df-64b659d5ed75"
      },
      "execution_count": null,
      "outputs": [
        {
          "output_type": "stream",
          "name": "stdout",
          "text": [
            "['helloworld']\n"
          ]
        }
      ]
    },
    {
      "cell_type": "code",
      "source": [
        "# Find position\n",
        "print(s.find('r'))"
      ],
      "metadata": {
        "colab": {
          "base_uri": "https://localhost:8080/"
        },
        "id": "2SFfT04cIjL1",
        "outputId": "037030ec-6fce-41b9-c0dc-ff938e7dcee5"
      },
      "execution_count": null,
      "outputs": [
        {
          "output_type": "stream",
          "name": "stdout",
          "text": [
            "7\n"
          ]
        }
      ]
    },
    {
      "cell_type": "code",
      "source": [
        "# Is all alphanumeric\n",
        "print(s.isalnum())"
      ],
      "metadata": {
        "colab": {
          "base_uri": "https://localhost:8080/"
        },
        "id": "mn0txVKuImjd",
        "outputId": "c1313a4a-0e5d-403a-ba8f-3fb8e8e78854"
      },
      "execution_count": null,
      "outputs": [
        {
          "output_type": "stream",
          "name": "stdout",
          "text": [
            "True\n"
          ]
        }
      ]
    },
    {
      "cell_type": "code",
      "source": [
        "# Is all alphabetic\n",
        "print(s.isalpha())"
      ],
      "metadata": {
        "colab": {
          "base_uri": "https://localhost:8080/"
        },
        "id": "FMCFxlFpIq9v",
        "outputId": "00b07f62-5c34-4390-8568-c7e89e0bc77d"
      },
      "execution_count": null,
      "outputs": [
        {
          "output_type": "stream",
          "name": "stdout",
          "text": [
            "True\n"
          ]
        }
      ]
    },
    {
      "cell_type": "code",
      "source": [
        "# Is all numeric\n",
        "print(s.isnumeric())"
      ],
      "metadata": {
        "colab": {
          "base_uri": "https://localhost:8080/"
        },
        "id": "iDfj0OudIuWw",
        "outputId": "04faa135-3e1c-483f-c45b-b4dce3014bc1"
      },
      "execution_count": null,
      "outputs": [
        {
          "output_type": "stream",
          "name": "stdout",
          "text": [
            "False\n"
          ]
        }
      ]
    },
    {
      "cell_type": "markdown",
      "source": [
        "# STRINGS ENDS HERE"
      ],
      "metadata": {
        "id": "2pwGYB2UI6v2"
      }
    },
    {
      "cell_type": "markdown",
      "source": [
        "# FUNCTIONS\n",
        "\n",
        "A function is a block of code which only runs when it is called. In Python, we do not use curly brackets, we use indentation with tabs or spaces"
      ],
      "metadata": {
        "id": "3TEaX0pqKXdn"
      }
    },
    {
      "cell_type": "code",
      "source": [
        "# Create function\n",
        "def sayHello(name='Sam'):\n",
        "    print(f'Hello {name}')\n",
        "\n",
        "# # Call function\n",
        "sayHello()"
      ],
      "metadata": {
        "id": "dhGdDfi2Kn5m"
      },
      "execution_count": null,
      "outputs": []
    },
    {
      "cell_type": "code",
      "source": [
        "# Return values\n",
        "def getSum(num1, num2):\n",
        "    total = num1 + num2\n",
        "    return total\n",
        "\n",
        "print(getSum(1,2))"
      ],
      "metadata": {
        "collapsed": true,
        "colab": {
          "base_uri": "https://localhost:8080/"
        },
        "id": "ji5bwiMMKwlK",
        "outputId": "12378d96-8d57-40a6-c791-91b4f4f881d0"
      },
      "execution_count": null,
      "outputs": [
        {
          "output_type": "stream",
          "name": "stdout",
          "text": [
            "3\n"
          ]
        }
      ]
    },
    {
      "cell_type": "code",
      "source": [
        "# A lambda function is a small anonymous function.\n",
        "# A lambda function can take any number of arguments, but can only have one expression.\n",
        "\n",
        "getSum = lambda num1, num2: num1 + num2\n",
        "\n",
        "print(getSum(10, 3))"
      ],
      "metadata": {
        "collapsed": true,
        "colab": {
          "base_uri": "https://localhost:8080/"
        },
        "id": "B2nVvpR5K-N4",
        "outputId": "f29b9068-b6d3-4c18-c6c4-195f81ef9083"
      },
      "execution_count": null,
      "outputs": [
        {
          "output_type": "stream",
          "name": "stdout",
          "text": [
            "13\n"
          ]
        }
      ]
    },
    {
      "cell_type": "markdown",
      "source": [
        "# END OF FUNCTIONS"
      ],
      "metadata": {
        "id": "ZhTDbm7ELexR"
      }
    },
    {
      "cell_type": "markdown",
      "source": [
        "# CONDITIONALS\n",
        "\n",
        " If/ Else conditions are used to decide to do something based on something being true or false"
      ],
      "metadata": {
        "id": "9r7FCmNE_IYK"
      }
    },
    {
      "cell_type": "code",
      "source": [
        "x = 21\n",
        "y = 20"
      ],
      "metadata": {
        "id": "dU1mJVuD_7Yt"
      },
      "execution_count": null,
      "outputs": []
    },
    {
      "cell_type": "markdown",
      "source": [
        "**Comparison Operators**\n",
        "\n",
        "(==, !=, >, <, >=, <=) - Used to compare values\n",
        "\n",
        "**==** checks if two values are equal.\n",
        "\n",
        " checks if two values are not equal.\n",
        "\n",
        "**>** checks if the left value is greater than the right value.\n",
        "\n",
        "**<** checks if the left value is less than the right value.\n",
        "\n",
        "**>=** checks if the left value is greater than or equal to the right value.\n",
        "\n",
        "**<= ** checks if the left value is less than or equal to the right value."
      ],
      "metadata": {
        "id": "iwImOO6vAcRD"
      }
    },
    {
      "cell_type": "code",
      "source": [
        "# Simple if\n",
        "if x > y:\n",
        "  print(f'{x} is greater than {y}')"
      ],
      "metadata": {
        "colab": {
          "base_uri": "https://localhost:8080/"
        },
        "id": "62GkEN5pAz7Y",
        "outputId": "f071a614-bf02-48d8-8b44-9fd14cc1f2e8"
      },
      "execution_count": null,
      "outputs": [
        {
          "output_type": "stream",
          "name": "stdout",
          "text": [
            "21 is greater than 20\n"
          ]
        }
      ]
    },
    {
      "cell_type": "code",
      "source": [
        "# If/else\n",
        "if x > y:\n",
        "  print(f'{x} is greater than {y}')\n",
        "else:\n",
        "  print(f'{y} is greater than {x}')"
      ],
      "metadata": {
        "colab": {
          "base_uri": "https://localhost:8080/"
        },
        "id": "uhJMwYVnAYW_",
        "outputId": "c4648ee2-8b09-4150-d543-49d90d4d8899"
      },
      "execution_count": null,
      "outputs": [
        {
          "output_type": "stream",
          "name": "stdout",
          "text": [
            "21 is greater than 20\n"
          ]
        }
      ]
    },
    {
      "cell_type": "code",
      "source": [
        "# elif\n",
        "if x > y:\n",
        "  print(f'{x} is greater than {y}')\n",
        "elif x == y:\n",
        "  print(f'{x} is equal to {y}')\n",
        "else:\n",
        "  print(f'{y} is greater than {x}')"
      ],
      "metadata": {
        "colab": {
          "base_uri": "https://localhost:8080/"
        },
        "collapsed": true,
        "id": "eJhz4bSmBJwK",
        "outputId": "fe716eb7-73ad-40d2-d3e4-6c6b2174e540"
      },
      "execution_count": null,
      "outputs": [
        {
          "output_type": "stream",
          "name": "stdout",
          "text": [
            "20 is equal to 20\n"
          ]
        }
      ]
    },
    {
      "cell_type": "code",
      "source": [
        "# Nested if\n",
        "if x > 2:\n",
        "  if x <= 10:\n",
        "    print(f'{x} is greater than 2 and less than or equal to 10')\n",
        "  else:\n",
        "    print(f'{x} is greater than 10')\n",
        "else:\n",
        "  print(f'{x} is less than 2')"
      ],
      "metadata": {
        "colab": {
          "base_uri": "https://localhost:8080/"
        },
        "collapsed": true,
        "id": "xcWFEdRYBUa-",
        "outputId": "b4685f6a-8ae9-4ab7-e1af-3c03ec09bcb7"
      },
      "execution_count": null,
      "outputs": [
        {
          "output_type": "stream",
          "name": "stdout",
          "text": [
            "21 is greater than 10\n"
          ]
        }
      ]
    },
    {
      "cell_type": "markdown",
      "source": [
        "**Logical operators** (and, or, not)\n",
        "- Used to combine conditional statements\n",
        "\n",
        "![and-or-not-andornot.webp](data:image/webp;base64,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)\n"
      ],
      "metadata": {
        "id": "2G1dGrZlBuI5"
      }
    },
    {
      "cell_type": "code",
      "source": [
        "# and\n",
        "if x > 2 and x <= 10:\n",
        "    print(f'{x} is greater than 2 and less than or equal to 10')\n",
        "else:\n",
        "    print(f'{x} is less than 2')"
      ],
      "metadata": {
        "colab": {
          "base_uri": "https://localhost:8080/"
        },
        "collapsed": true,
        "id": "9epbzjilBqS0",
        "outputId": "5c97168a-3ad8-42a6-9ee0-67bb0e45939d"
      },
      "execution_count": null,
      "outputs": [
        {
          "output_type": "stream",
          "name": "stdout",
          "text": [
            "21 is less than 2\n"
          ]
        }
      ]
    },
    {
      "cell_type": "code",
      "source": [
        "# or\n",
        "if x > 2 or x <= 10:\n",
        "    print(f'{x} is greater than 2 or less than or equal to 10')"
      ],
      "metadata": {
        "colab": {
          "base_uri": "https://localhost:8080/"
        },
        "collapsed": true,
        "id": "Q6KeeiybDdM2",
        "outputId": "10e877b3-be9f-45ea-d988-a88e7707b51c"
      },
      "execution_count": null,
      "outputs": [
        {
          "output_type": "stream",
          "name": "stdout",
          "text": [
            "21 is greater than 2 or less than or equal to 10\n"
          ]
        }
      ]
    },
    {
      "cell_type": "code",
      "source": [
        "# not\n",
        "if not(x == y):\n",
        "  print(f'{x} is not equal to {y}')"
      ],
      "metadata": {
        "collapsed": true,
        "colab": {
          "base_uri": "https://localhost:8080/"
        },
        "id": "n5ONQ-3xDlz9",
        "outputId": "d3830e16-5a2d-4c67-cad4-6169a059ddfc"
      },
      "execution_count": null,
      "outputs": [
        {
          "output_type": "stream",
          "name": "stdout",
          "text": [
            "21 is not equal to 20\n"
          ]
        }
      ]
    },
    {
      "cell_type": "markdown",
      "source": [
        "**Membership Operator**s (not, not in)\n",
        "\n",
        "- Membership operators are used to test if a sequence is presented in an object"
      ],
      "metadata": {
        "id": "zkjfA88DDtaI"
      }
    },
    {
      "cell_type": "code",
      "source": [
        "numbers = [1,2,3,4,5]\n"
      ],
      "metadata": {
        "id": "XTOiVk4dD4Ju"
      },
      "execution_count": null,
      "outputs": []
    },
    {
      "cell_type": "code",
      "source": [
        "#  in\n",
        "if x in numbers:\n",
        "  print(x in numbers)\n",
        "else:\n",
        "  print(x not in numbers)"
      ],
      "metadata": {
        "id": "O7fhuZvaD9tR",
        "colab": {
          "base_uri": "https://localhost:8080/"
        },
        "outputId": "42fcf3b4-ab53-4a0b-f22f-5b3ba64d7cb7"
      },
      "execution_count": null,
      "outputs": [
        {
          "output_type": "stream",
          "name": "stdout",
          "text": [
            "True\n"
          ]
        }
      ]
    },
    {
      "cell_type": "code",
      "source": [
        "# not in\n",
        "if x not in numbers:\n",
        "  print(x not in numbers)"
      ],
      "metadata": {
        "colab": {
          "base_uri": "https://localhost:8080/"
        },
        "id": "ZDyZ03M_Frzo",
        "outputId": "748be5a4-4b71-43c8-c051-8b4de43a14e5"
      },
      "execution_count": null,
      "outputs": [
        {
          "output_type": "stream",
          "name": "stdout",
          "text": [
            "True\n"
          ]
        }
      ]
    },
    {
      "cell_type": "code",
      "source": [],
      "metadata": {
        "id": "7-M6lRn9FyXZ"
      },
      "execution_count": null,
      "outputs": []
    },
    {
      "cell_type": "markdown",
      "source": [
        "**Identity Operators** (is, is not)\n",
        "\n",
        "- Compare the objects, not if they are equal, but if they are actually the same object, with the same memory location"
      ],
      "metadata": {
        "id": "B3Hfz276FBWQ"
      }
    },
    {
      "cell_type": "code",
      "source": [
        "# is\n",
        "if x is y:\n",
        "  print(x is y)"
      ],
      "metadata": {
        "id": "O2mBsNbkEsCM"
      },
      "execution_count": null,
      "outputs": []
    },
    {
      "cell_type": "code",
      "source": [
        "# is not\n",
        "if x is not y:\n",
        "  print(x is not y)"
      ],
      "metadata": {
        "colab": {
          "base_uri": "https://localhost:8080/"
        },
        "id": "y13Nd6eHFQMi",
        "outputId": "f185c088-5e3f-4181-b918-e58707858408"
      },
      "execution_count": null,
      "outputs": [
        {
          "output_type": "stream",
          "name": "stdout",
          "text": [
            "True\n"
          ]
        }
      ]
    },
    {
      "cell_type": "markdown",
      "source": [
        "# CONDITIONALS END HERE"
      ],
      "metadata": {
        "id": "NyoHJHaSF4xR"
      }
    },
    {
      "cell_type": "markdown",
      "source": [
        "# LAMBDA FUNCTIONS,MAP, FILTER AND REDUCE"
      ],
      "metadata": {
        "id": "zoI37lQsgdw7"
      }
    },
    {
      "cell_type": "markdown",
      "source": [
        "**LAMBDA FUNCTIONS**\n",
        "\n",
        "One of Pythons most useful tools is the lambda expression. lambda expressions allow us to create \"anonymous\" functions.\n",
        "\n",
        "\n",
        "lambda's body is a single expression, not a block of statements."
      ],
      "metadata": {
        "id": "5lbGjWTJqfdM"
      }
    },
    {
      "cell_type": "code",
      "source": [
        "def square(num):\n",
        "    result = num**2\n",
        "    return result"
      ],
      "metadata": {
        "id": "lxc3WOk0rCgv"
      },
      "execution_count": null,
      "outputs": []
    },
    {
      "cell_type": "code",
      "source": [
        "square = lambda num: num **2"
      ],
      "metadata": {
        "id": "xr5A0mAQrD4K"
      },
      "execution_count": null,
      "outputs": []
    },
    {
      "cell_type": "code",
      "source": [
        "# This lambda function takes two arguments, x and y, and returns their sum.\n",
        "sum_lambda = lambda x, y: x + y\n",
        "\n",
        "# You can then use the lambda function like a regular function.\n",
        "print(sum_lambda(5, 3))"
      ],
      "metadata": {
        "id": "PK1GiZh6rDzP"
      },
      "execution_count": null,
      "outputs": []
    },
    {
      "cell_type": "markdown",
      "source": [
        "**MAP FUNCTION**\n",
        "\n",
        "The map function allows you to \"map\" a function to an iterable object. That is to say you can quickly call the same function to every item in an iterable, such as a list.\n",
        "\n",
        "Syntax: map(function, iterable)\n",
        "The map () function returns a map object(which is an iterator) of the results after applying the given function to each item of a given iterable (list, tuple, etc.).\n",
        "\n",
        "The functions can also be more complex\n",
        "\n",
        "def splicer(mystring):\n",
        "    if len(mystring) % 2 == 0:\n",
        "        return 'even'\n",
        "    else:\n",
        "        return mystring[0]\n"
      ],
      "metadata": {
        "id": "ZQDAAaN4kZN4"
      }
    },
    {
      "cell_type": "code",
      "source": [
        "my_nums = [1,2,3,4,5]\n",
        "map(lambda x : x**2,my_nums)"
      ],
      "metadata": {
        "colab": {
          "base_uri": "https://localhost:8080/"
        },
        "id": "LhdxrvAHgstR",
        "outputId": "af7ad059-b9d9-4fe1-a8c9-a6690f1448f0"
      },
      "execution_count": null,
      "outputs": [
        {
          "output_type": "execute_result",
          "data": {
            "text/plain": [
              "<map at 0x78e845277a60>"
            ]
          },
          "metadata": {},
          "execution_count": 31
        }
      ]
    },
    {
      "cell_type": "code",
      "source": [
        "#To get the results, cast the map to a list\n",
        "list(map(square,my_nums))"
      ],
      "metadata": {
        "colab": {
          "base_uri": "https://localhost:8080/"
        },
        "id": "clXLFIJZgsph",
        "outputId": "2582b75a-ab0a-4677-bc9a-7b6a26c9ec4a"
      },
      "execution_count": null,
      "outputs": [
        {
          "output_type": "execute_result",
          "data": {
            "text/plain": [
              "[1, 4, 9, 16, 25]"
            ]
          },
          "metadata": {},
          "execution_count": 32
        }
      ]
    },
    {
      "cell_type": "code",
      "source": [
        "#The functions can be more complex\n",
        "def splicer(mystring):\n",
        "    if len(mystring) % 2 == 0:\n",
        "        return 'even'\n",
        "    else:\n",
        "        return mystring[0]\n",
        "mynames = ['John','Cindy','Sarah','Kelly','Mike']\n",
        "list(map(splicer,mynames))\n"
      ],
      "metadata": {
        "colab": {
          "base_uri": "https://localhost:8080/"
        },
        "id": "PxIGJs19pRXf",
        "outputId": "5d17b101-ab1c-4674-9cf3-1d988b9a5327"
      },
      "execution_count": null,
      "outputs": [
        {
          "output_type": "execute_result",
          "data": {
            "text/plain": [
              "['even', 'C', 'S', 'K', 'even']"
            ]
          },
          "metadata": {},
          "execution_count": 30
        }
      ]
    },
    {
      "cell_type": "markdown",
      "source": [
        "**FILTER FUNCTION**\n",
        "\n",
        "The filter function returns an iterator yielding those items of iterable for which function(item) is true.\n",
        "\n",
        "**Meaning you need to filter by a function that returns either True or False**\n",
        "\n",
        "Then passing that into filter (along with your iterable) and you will get back only the results that would return True when passed to the function."
      ],
      "metadata": {
        "id": "df7qWy_BlVUl"
      }
    },
    {
      "cell_type": "code",
      "source": [
        "#def check_even(num):\n",
        "#    return num % 2 == 0\n",
        "nums = [0,1,2,3,4,5,6,7,8,9,10]\n"
      ],
      "metadata": {
        "id": "lAPbtG45gslw"
      },
      "execution_count": null,
      "outputs": []
    },
    {
      "cell_type": "code",
      "source": [
        "list(filter(lambda x: x%2 == 0, nums))"
      ],
      "metadata": {
        "colab": {
          "base_uri": "https://localhost:8080/"
        },
        "id": "NjcM3yINgshV",
        "outputId": "90e095a9-22f4-4e7a-c3fd-2b066cf6f636"
      },
      "execution_count": null,
      "outputs": [
        {
          "output_type": "execute_result",
          "data": {
            "text/plain": [
              "[0, 2, 4, 6, 8, 10]"
            ]
          },
          "metadata": {},
          "execution_count": 38
        }
      ]
    },
    {
      "cell_type": "markdown",
      "source": [
        "QUIZ TIME!!Extract all ages above 18!!"
      ],
      "metadata": {
        "id": "nrz-UMrItfqu"
      }
    },
    {
      "cell_type": "code",
      "source": [
        "ages = [13, 90, 17, 59, 21, 60, 5]\n"
      ],
      "metadata": {
        "colab": {
          "base_uri": "https://localhost:8080/"
        },
        "id": "AdtdqWKusIXO",
        "outputId": "c331cb42-5ff7-4766-ce98-e746950b5a6b"
      },
      "execution_count": null,
      "outputs": [
        {
          "output_type": "stream",
          "name": "stdout",
          "text": [
            "[90, 59, 21, 60]\n"
          ]
        }
      ]
    },
    {
      "cell_type": "code",
      "source": [
        "#SOLUTION :\n",
        "adults = list(filter(lambda age: age > 18, ages))\n",
        "\n",
        "print(adults)"
      ],
      "metadata": {
        "id": "xb7JInYStpnC"
      },
      "execution_count": null,
      "outputs": []
    },
    {
      "cell_type": "markdown",
      "source": [
        "EXTRACT ALL NAMES THAT START WITH 'H'"
      ],
      "metadata": {
        "id": "jvsEJyw7tyks"
      }
    },
    {
      "cell_type": "code",
      "source": [
        "names = [\"Arun\", \"Sonu\", \"Harsh\", \"Harry\", \"Anu\", \"Hassi\"]\n"
      ],
      "metadata": {
        "id": "QsdFHWkvtNvp"
      },
      "execution_count": null,
      "outputs": []
    },
    {
      "cell_type": "code",
      "source": [
        "#SOLUTION\n",
        "name_start_with_H = list(filter(lambda x: x[0] == 'H', names))\n"
      ],
      "metadata": {
        "id": "2PPv-X5IgsYz"
      },
      "execution_count": null,
      "outputs": []
    },
    {
      "cell_type": "markdown",
      "source": [
        "WHAT WILL THE OUTPUT BE HERE ?"
      ],
      "metadata": {
        "id": "rRzgjnv5ubs6"
      }
    },
    {
      "cell_type": "code",
      "source": [
        "print(list(map(lambda x : x*2 ,range(0,10))))\n",
        "print(list(filter(lambda x : x*2 ,range(0,10))))"
      ],
      "metadata": {
        "id": "e-AWG-LFuA7X"
      },
      "execution_count": null,
      "outputs": []
    },
    {
      "cell_type": "markdown",
      "source": [
        "**REDUCE FUNCTION :**\n",
        "\n",
        "The function reduce(function, sequence) continually applies the function to the sequence. **It then returns a single value.**"
      ],
      "metadata": {
        "id": "yRqCEkl0wMGo"
      }
    },
    {
      "cell_type": "code",
      "source": [
        "\n",
        "# Map\n",
        "numbers = [1, 2, 3, 4, 5]\n",
        "\n",
        "def square(x):\n",
        "    return x ** 2\n",
        "\n",
        "squared_numbers = map(square, numbers)\n",
        "\n",
        "# Reduce\n",
        "from functools import reduce\n",
        "\n",
        "product = reduce(lambda x, y: x * y, numbers)\n",
        "print(list(squared_numbers))\n",
        "print(product)"
      ],
      "metadata": {
        "colab": {
          "base_uri": "https://localhost:8080/"
        },
        "id": "pzNmxaZxv0QP",
        "outputId": "7bf858c4-125c-428a-910a-fe4cb755709e"
      },
      "execution_count": null,
      "outputs": [
        {
          "output_type": "stream",
          "name": "stdout",
          "text": [
            "[1, 4, 9, 16, 25]\n",
            "120\n"
          ]
        }
      ]
    },
    {
      "cell_type": "code",
      "source": [
        "#WHAT WILL THE OUTPUT BE HERE?\n",
        "from functools import reduce\n",
        "\n",
        "lst =[47,11,42,13]\n",
        "reduce(lambda x,y: x+y,lst)"
      ],
      "metadata": {
        "colab": {
          "base_uri": "https://localhost:8080/"
        },
        "id": "gHdaW44bxqsf",
        "outputId": "77cd5bb9-503e-4988-9059-e56d26340258",
        "collapsed": true
      },
      "execution_count": null,
      "outputs": [
        {
          "output_type": "execute_result",
          "data": {
            "text/plain": [
              "113"
            ]
          },
          "metadata": {},
          "execution_count": 47
        }
      ]
    },
    {
      "cell_type": "markdown",
      "source": [
        "![deld.png](data:image/png;base64,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)"
      ],
      "metadata": {
        "id": "UqJCX7K-0Tyl"
      }
    },
    {
      "cell_type": "markdown",
      "source": [],
      "metadata": {
        "id": "985rhC6fv8dK"
      }
    },
    {
      "cell_type": "markdown",
      "source": [
        "# LAMBDA FUNCTIONS,MAP, FILTER AND REDUCE ENDS HERE"
      ],
      "metadata": {
        "id": "YiNS2mLbgmzq"
      }
    },
    {
      "cell_type": "markdown",
      "source": [
        "# FILES\n",
        "\n",
        "Python has functions for creating, reading, updating, and deleting files."
      ],
      "metadata": {
        "id": "6QRNd7WdLYJH"
      }
    },
    {
      "cell_type": "code",
      "source": [
        "# Open a file\n",
        "myFile = open('myfile.txt', 'w')"
      ],
      "metadata": {
        "id": "9E8jZfjWLwGy"
      },
      "execution_count": null,
      "outputs": []
    },
    {
      "cell_type": "code",
      "source": [
        "# Get some info\n",
        "print('Name: ', myFile.name)\n",
        "print('Is Closed : ', myFile.closed)\n",
        "print('Opening Mode: ', myFile.mode)"
      ],
      "metadata": {
        "collapsed": true,
        "colab": {
          "base_uri": "https://localhost:8080/"
        },
        "id": "prq_BPjPLxwC",
        "outputId": "79bf04d3-b61a-4b26-e27f-95d3304397b6"
      },
      "execution_count": null,
      "outputs": [
        {
          "output_type": "stream",
          "name": "stdout",
          "text": [
            "Name:  myfile.txt\n",
            "Is Closed :  False\n",
            "Opening Mode:  w\n"
          ]
        }
      ]
    },
    {
      "cell_type": "code",
      "source": [
        "# Write to file\n",
        "myFile.write('I love Python')\n",
        "myFile.write(' and JavaScript')\n",
        "myFile.close()"
      ],
      "metadata": {
        "id": "maFFstIEL8lV"
      },
      "execution_count": null,
      "outputs": []
    },
    {
      "cell_type": "code",
      "source": [
        "# Append to file\n",
        "myFile = open('myfile.txt', 'a')\n",
        "myFile.write(' I also like PHP')\n",
        "myFile.close()"
      ],
      "metadata": {
        "id": "guRzP55wLxn2"
      },
      "execution_count": null,
      "outputs": []
    },
    {
      "cell_type": "code",
      "source": [
        "# Read from file\n",
        "myFile = open('myfile.txt', 'r+')\n",
        "text = myFile.read(100)\n",
        "print(text)"
      ],
      "metadata": {
        "collapsed": true,
        "colab": {
          "base_uri": "https://localhost:8080/"
        },
        "id": "OAjdEmdnME1S",
        "outputId": "5437b452-d4b9-4d43-8d0d-e1d4f0f1c73d"
      },
      "execution_count": null,
      "outputs": [
        {
          "output_type": "stream",
          "name": "stdout",
          "text": [
            "I love Python and JavaScript I also like PHP\n"
          ]
        }
      ]
    },
    {
      "cell_type": "markdown",
      "source": [
        "# END OF FILES"
      ],
      "metadata": {
        "id": "VwL5js7OMMPL"
      }
    },
    {
      "cell_type": "markdown",
      "source": [
        "# VALIDATORS\n",
        "\n",
        "Example of a custom module to be imported"
      ],
      "metadata": {
        "id": "ez5irBYcMZdH"
      }
    },
    {
      "cell_type": "code",
      "source": [
        "import re\n",
        "\n",
        "# Function to validate email\n",
        "def validate_email(email):\n",
        "    if len(email) > 7:\n",
        "        return bool(re.match(r\"^[a-zA-Z0-9._%+-]+@[a-zA-Z0-9.-]+\\.[a-zA-Z]{2,}$\", email))\n",
        "\n",
        "    return False\n",
        "\n",
        "\n",
        "# Example emails\n",
        "emails = [\n",
        "    \"test@example.com\",\n",
        "    \"user@sub.domain.co\",\n",
        "    \"invalid-email.com\",\n",
        "    \"another.test@domain\",\n",
        "    \"valid@domain123.com\"\n",
        "]\n",
        "\n",
        "# Validate and print results\n",
        "for email in emails:\n",
        "    print(f\"{email} is valid: {validate_email(email)}\")\n"
      ],
      "metadata": {
        "collapsed": true,
        "colab": {
          "base_uri": "https://localhost:8080/"
        },
        "id": "6Fw6KdtqMYhR",
        "outputId": "d0dcc51b-a59e-4ccb-827e-703b92c0cb85"
      },
      "execution_count": null,
      "outputs": [
        {
          "output_type": "stream",
          "name": "stdout",
          "text": [
            "test@example.com is valid: True\n",
            "user@sub.domain.co is valid: True\n",
            "invalid-email.com is valid: False\n",
            "another.test@domain is valid: False\n",
            "valid@domain123.com is valid: True\n"
          ]
        }
      ]
    },
    {
      "cell_type": "markdown",
      "source": [
        "# END OF VALIDATORS"
      ],
      "metadata": {
        "id": "q1yeSnweNAR-"
      }
    },
    {
      "cell_type": "markdown",
      "source": [
        "#Starting with modules,<br>\n",
        "A module is basically a file containing a set of functions to include in your application.\n",
        "There are core python modules, modules you can install using the pip package manager (including Django) as well as custom modules."
      ],
      "metadata": {
        "id": "CMdGJ05ANwfj"
      }
    },
    {
      "cell_type": "code",
      "source": [
        "# Core modules.\n",
        "import datetime\n",
        "from datetime import date\n",
        "import time\n",
        "from time import time"
      ],
      "metadata": {
        "id": "3XqC-MRcEoid"
      },
      "execution_count": null,
      "outputs": []
    },
    {
      "cell_type": "code",
      "source": [
        "import datetime\n",
        "\n",
        "# Get the current date using datetime.date.today().\n",
        "today_date = datetime.date.today()\n",
        "print(\"Today's Date (using datetime.date.today()):\", today_date)\n",
        "\n",
        "# If you've already imported date from datetime, you can use it directly.\n",
        "from datetime import date\n",
        "today_date = date.today()\n",
        "print(\"Today's Date (using date.today()):\", today_date)\n"
      ],
      "metadata": {
        "colab": {
          "base_uri": "https://localhost:8080/"
        },
        "id": "RQSOZ947I0fY",
        "outputId": "9bfbc7c5-1bd0-426a-8ab6-abe0c8da4ce9"
      },
      "execution_count": null,
      "outputs": [
        {
          "output_type": "stream",
          "name": "stdout",
          "text": [
            "Today's Date (using datetime.date.today()): 2024-06-11\n",
            "Today's Date (using date.today()): 2024-06-11\n"
          ]
        }
      ]
    },
    {
      "cell_type": "code",
      "source": [
        "pip install camelcase"
      ],
      "metadata": {
        "colab": {
          "base_uri": "https://localhost:8080/"
        },
        "id": "vhBf4P9oFqPr",
        "outputId": "a9323b55-871c-40e5-be5c-97f03998b04d"
      },
      "execution_count": null,
      "outputs": [
        {
          "output_type": "stream",
          "name": "stdout",
          "text": [
            "Collecting camelcase\n",
            "  Downloading camelcase-0.2.tar.gz (1.3 kB)\n",
            "  Preparing metadata (setup.py) ... \u001b[?25l\u001b[?25hdone\n",
            "Building wheels for collected packages: camelcase\n",
            "  Building wheel for camelcase (setup.py) ... \u001b[?25l\u001b[?25hdone\n",
            "  Created wheel for camelcase: filename=camelcase-0.2-py3-none-any.whl size=1773 sha256=d1becdf30f31f43273a2d3f628f1db8b298ed460948be7ec7626434793672b83\n",
            "  Stored in directory: /root/.cache/pip/wheels/89/69/2b/bb16b6766a74942bfbd1e0db55e3c0f3d80c3463ad6b4dc4d4\n",
            "Successfully built camelcase\n",
            "Installing collected packages: camelcase\n",
            "Successfully installed camelcase-0.2\n"
          ]
        }
      ]
    },
    {
      "cell_type": "code",
      "source": [
        "# Pip module.\n",
        "# You create an instance of CamelCase from a pip-installed module to potentially transform a string into camel case.\n",
        "from camelcase import CamelCase"
      ],
      "metadata": {
        "id": "yVN_mSQFEyt6"
      },
      "execution_count": null,
      "outputs": []
    },
    {
      "cell_type": "code",
      "source": [
        "c = CamelCase()\n",
        "print(c.hump('hello there world'))"
      ],
      "metadata": {
        "colab": {
          "base_uri": "https://localhost:8080/"
        },
        "id": "jxfE8dBiIJEh",
        "outputId": "64983f67-bff4-47e3-ace7-d67f3ece8e9f"
      },
      "execution_count": null,
      "outputs": [
        {
          "output_type": "stream",
          "name": "stdout",
          "text": [
            "Hello There World\n"
          ]
        }
      ]
    },
    {
      "cell_type": "code",
      "source": [
        "# Custom module.\n",
        "%%writefile math_utils.py\n",
        "\n",
        "def add(x, y):\n",
        "    \"\"\"Returns the sum of two numbers\"\"\"\n",
        "    return x + y\n",
        "\n",
        "def subtract(x, y):\n",
        "    \"\"\"Returns the difference between two numbers\"\"\"\n",
        "    return x - y\n",
        "\n",
        "def multiply(x, y):\n",
        "    \"\"\"Returns the product of two numbers\"\"\"\n",
        "    return x * y\n",
        "\n",
        "def divide(x, y):\n",
        "    \"\"\"Returns the division of two numbers\"\"\"\n",
        "    if y == 0:\n",
        "        return \"Error! Division by zero is not allowed.\"\n",
        "    return x / y"
      ],
      "metadata": {
        "colab": {
          "base_uri": "https://localhost:8080/"
        },
        "id": "J5nX3Ej4IxMz",
        "outputId": "dd4d9d52-9978-4c19-c4e0-75d57d44f940"
      },
      "execution_count": null,
      "outputs": [
        {
          "output_type": "stream",
          "name": "stdout",
          "text": [
            "Writing math_utils.py\n"
          ]
        }
      ]
    },
    {
      "cell_type": "code",
      "source": [
        "# Import the custom module\n",
        "import math_utils\n",
        "\n",
        "# Perform mathematical operations using functions from the custom module\n",
        "result_add = math_utils.add(5, 3)\n",
        "result_subtract = math_utils.subtract(10, 4)\n",
        "result_multiply = math_utils.multiply(6, 2)\n",
        "result_divide = math_utils.divide(8, 2)\n",
        "\n",
        "# Print the results\n",
        "print(\"Addition Result:\", result_add)\n",
        "print(\"Subtraction Result:\", result_subtract)\n",
        "print(\"Multiplication Result:\", result_multiply)\n",
        "print(\"Division Result:\", result_divide)"
      ],
      "metadata": {
        "colab": {
          "base_uri": "https://localhost:8080/"
        },
        "id": "2zQWp3PGJf8k",
        "outputId": "d531c1ca-113a-48c7-dc7f-41518f49556e"
      },
      "execution_count": null,
      "outputs": [
        {
          "output_type": "stream",
          "name": "stdout",
          "text": [
            "Addition Result: 8\n",
            "Subtraction Result: 6\n",
            "Multiplication Result: 12\n",
            "Division Result: 4.0\n"
          ]
        }
      ]
    },
    {
      "cell_type": "markdown",
      "source": [
        "#End of modules with this."
      ],
      "metadata": {
        "id": "V8JWe3WWN3Fn"
      }
    },
    {
      "cell_type": "markdown",
      "source": [
        "#Starting with JSON,\n",
        "JSON is commonly used with data API's.\n",
        "Here how we can parse JSON into a Python dictionary."
      ],
      "metadata": {
        "id": "48qIwtq8N6-E"
      }
    },
    {
      "cell_type": "code",
      "source": [
        "import json"
      ],
      "metadata": {
        "id": "mSubreA8KJ1y"
      },
      "execution_count": null,
      "outputs": []
    },
    {
      "cell_type": "code",
      "source": [
        "# Sample JSON.\n",
        "userJSON = '{\"first_name\": \"John\", \"last_name\": \"Doe\", \"age\": 30}'"
      ],
      "metadata": {
        "id": "n6FVNTJeKZMn"
      },
      "execution_count": null,
      "outputs": []
    },
    {
      "cell_type": "code",
      "source": [
        "# Parse to dict.\n",
        "user = json.loads(userJSON)"
      ],
      "metadata": {
        "id": "LX3j9CWmKenl"
      },
      "execution_count": null,
      "outputs": []
    },
    {
      "cell_type": "code",
      "source": [
        "# Print.\n",
        "print(user['first_name'])"
      ],
      "metadata": {
        "colab": {
          "base_uri": "https://localhost:8080/"
        },
        "id": "3FwTyjHIKicg",
        "outputId": "2078d3fd-ba17-4d8a-938e-960d643cc880",
        "collapsed": true
      },
      "execution_count": null,
      "outputs": [
        {
          "output_type": "stream",
          "name": "stdout",
          "text": [
            "John\n"
          ]
        }
      ]
    },
    {
      "cell_type": "code",
      "source": [
        "# Test Sample.\n",
        "import json\n",
        "\n",
        "# Define multiple cars and organize them into a list.\n",
        "cars = [\n",
        "    {\n",
        "        'make': 'Ford',\n",
        "        'model': 'Mustang',\n",
        "        'year': 1970,\n",
        "        'color': 'Red',\n",
        "    },\n",
        "    {\n",
        "        'make': 'Toyota',\n",
        "        'model': 'Camry',\n",
        "        'year': 2018,\n",
        "        'color': 'Blue',\n",
        "    },\n",
        "    {\n",
        "        'make': 'Tesla',\n",
        "        'model': 'Model S',\n",
        "        'year': 2022,\n",
        "        'color': 'Black',\n",
        "    }\n",
        "]"
      ],
      "metadata": {
        "id": "aj7RQ_fQKkxU"
      },
      "execution_count": null,
      "outputs": []
    },
    {
      "cell_type": "code",
      "source": [
        "# Convert the list of cars to a JSON string.\n",
        "carsJSON = json.dumps(cars)"
      ],
      "metadata": {
        "id": "nYw6HOUTK_yF"
      },
      "execution_count": null,
      "outputs": []
    },
    {
      "cell_type": "code",
      "source": [
        "# Print the \"make\" parameter for each car.\n",
        "for car in cars:\n",
        "    print(\"Make:\", car['make'])"
      ],
      "metadata": {
        "colab": {
          "base_uri": "https://localhost:8080/"
        },
        "id": "wyB3e0MbLJvg",
        "outputId": "276531a9-ba9b-47d1-80ce-651299842abc"
      },
      "execution_count": null,
      "outputs": [
        {
          "output_type": "stream",
          "name": "stdout",
          "text": [
            "Make: Ford\n",
            "Make: Toyota\n",
            "Make: Tesla\n"
          ]
        }
      ]
    },
    {
      "cell_type": "markdown",
      "source": [
        "#End of JSON with this."
      ],
      "metadata": {
        "id": "6YhTxe4FN-3D"
      }
    },
    {
      "cell_type": "markdown",
      "source": [
        "#Starting with Classes,\n",
        " A class is like a blueprint for creating objects.\n",
        " An object has properties and methods (functions) associated with it, almost everything in Python is an object.\n",
        "\n"
      ],
      "metadata": {
        "id": "YHpqJXF7bdcz"
      }
    },
    {
      "cell_type": "code",
      "source": [
        "# Create class\n",
        "class User:\n",
        "\n",
        "  # Constructor (__init__ method): Initializes the object with name, email, age, and an encapsulated variable _private.\n",
        "  def __init__(self, name, email, age):\n",
        "    self.name = name\n",
        "    self.email = email\n",
        "    self.age = age\n",
        "\n",
        "\n",
        "    # Encapsulation is the concept of making the variables non-accessible or accessible up to some extent from the child classes\n",
        "    self._private = 1000 # Encapsulated variables are declared with '_' in the constructor.\n",
        "\n",
        "  def greeting(self):\n",
        "    return f'My name is {self.name} and I am {self.age}'\n",
        "\n",
        "  def has_birthday(self):\n",
        "    self.age += 1\n",
        "\n",
        "  # Function for encapsulated variable\n",
        "  def print_encap(self):\n",
        "    print(self._private)\n"
      ],
      "metadata": {
        "id": "5wSYtd6kbfnA"
      },
      "execution_count": null,
      "outputs": []
    },
    {
      "cell_type": "code",
      "source": [
        "# Create an instance of User\n",
        "brad = User('Brad Traversy', 'brad@gmail.com', 37)"
      ],
      "metadata": {
        "id": "WMvOx262dKJP"
      },
      "execution_count": null,
      "outputs": []
    },
    {
      "cell_type": "code",
      "source": [
        "# Call the greeting method and print its return value\n",
        "print(brad.greeting())\n",
        "\n",
        "# Call the has_birthday method to increment age\n",
        "brad.has_birthday()\n",
        "\n",
        "# Call the greeting method again to see the updated age\n",
        "print(brad.greeting())\n",
        "\n",
        "# Call the print_encap method to print the encapsulated variable\n",
        "brad.print_encap()\n",
        "\n",
        "# Modify the encapsulated variable directly (not recommended in practice, but possible)\n",
        "brad._private = 800\n",
        "\n",
        "# Call the print_encap method again to see the updated value\n",
        "brad.print_encap()\n"
      ],
      "metadata": {
        "colab": {
          "base_uri": "https://localhost:8080/"
        },
        "id": "zDG_OkOidOOD",
        "outputId": "0e13153e-8e9b-46ee-b954-6572dc6fa51c"
      },
      "execution_count": null,
      "outputs": [
        {
          "output_type": "stream",
          "name": "stdout",
          "text": [
            "My name is Brad Traversy and I am 37\n",
            "My name is Brad Traversy and I am 38\n",
            "1000\n",
            "800\n"
          ]
        }
      ]
    },
    {
      "cell_type": "markdown",
      "source": [
        "#End of Classes with this."
      ],
      "metadata": {
        "id": "9MtzcaCddkAr"
      }
    },
    {
      "cell_type": "markdown",
      "source": [
        "**Function and Classes**\n",
        "\n",
        "Application: Web Scraping\n",
        "\n",
        "**Strings**\n",
        "\n",
        "Application: Data Formatting and Cleaning\n",
        "\n",
        "Strings are used extensively for data manipulation. For example, cleaning up and formatting data for reports.\n",
        "\n",
        "**Files**\n",
        "\n",
        "Application: Logging\n",
        "\n",
        "Reading from and writing to files is essential for logging application events or errors.\n",
        "\n",
        "**Validators**\n",
        "\n",
        "Application: Form Validation in Web Applications\n",
        "\n",
        "Validators are used to ensure that user input meets certain criteria before processing it. For example, validating an email address during user registration\n",
        "\n",
        "**Conditionals**\n",
        "\n",
        "Application: Authentication System\n",
        "\n",
        "Conditionals are used to control the flow of a program based on certain conditions. For example, checking user credentials.\n",
        "\n",
        "**Integrating All Concepts**\n",
        "\n",
        "Application: A Simple To-Do List Application\n",
        "\n",
        "Combining these concepts, you can create a simple console-based to-do list application.\n",
        "\n",
        "Functions to modularize the code for task operations.\n",
        "\n",
        "Strings for handling user input and task manipulation\n",
        "\n",
        "Files to save and load tasks.\n",
        "\n",
        "Validators to check the validity of tasks.\n",
        "\n",
        "Conditionals to navigate through the menu options"
      ],
      "metadata": {
        "id": "K9gdiiytVgeg"
      }
    },
    {
      "cell_type": "code",
      "source": [],
      "metadata": {
        "id": "LNeeunMTWIYV"
      },
      "execution_count": null,
      "outputs": []
    }
  ]
}